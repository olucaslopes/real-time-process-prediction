{
 "cells": [
  {
   "cell_type": "markdown",
   "metadata": {},
   "source": [
    "# Data Prep\n",
    "\n",
    "In this notebook we:\n",
    "- Load the data\n",
    "- Check for missing values\n",
    "- Check for duplicates\n",
    "- Clean the data\n",
    "- Split the data into train, validation and test sets\n",
    "\n",
    "## Summary\n",
    "\n",
    "#### Strategies for splitting the data\n",
    "\n",
    "Even though most of the columns are floats, we have some columns with low cardinality. This can be a problem when splitting the data into train, validation and test sets. If we split the data randomly, we can end up with records with the same value in the low cardinality columns in the training and validation/test sets. This can lead to data leakage and the model will not generalize well to unseen data i.e. the model will learn how to predict for only the small subset of values in the low cardinality columns and will not be able to generalize to unseen values.\n",
    "\n",
    "To avoid this problem, we will use the following strategies to split the data:\n",
    "\n",
    "1. **GroupKFold**: We will split the data into 5 groups based on the the low cardinallity columns. We will use 4 groups for training and with the remaining group we will split it into validation and test sets. This way, we can make sure that the model generalizes well to unseen data. The proportion of the data in each group is approximately 80% for training and 10% for validation and test sets.\n",
    "2. **LeaveOneGroupOut**: We will use this strategy to evaluate the model's performance on unseen targets (for the low cardinality targets `potenciaGeradaTG1_2`, `consumoEspecificoTG1_2`). We will leave two non zero groups out for validation and test sets.\n",
    "3. **RandomSplit**: We will use this strategy to split the data into training, validation and test sets only for comparison purposes."
   ]
  },
  {
   "cell_type": "code",
   "execution_count": 1,
   "metadata": {},
   "outputs": [],
   "source": [
    "import pandas as pd\n",
    "import numpy as np\n",
    "from sklearn.model_selection import GroupKFold"
   ]
  },
  {
   "cell_type": "code",
   "execution_count": 2,
   "metadata": {},
   "outputs": [
    {
     "data": {
      "text/html": [
       "<div>\n",
       "<style scoped>\n",
       "    .dataframe tbody tr th:only-of-type {\n",
       "        vertical-align: middle;\n",
       "    }\n",
       "\n",
       "    .dataframe tbody tr th {\n",
       "        vertical-align: top;\n",
       "    }\n",
       "\n",
       "    .dataframe thead th {\n",
       "        text-align: right;\n",
       "    }\n",
       "</style>\n",
       "<table border=\"1\" class=\"dataframe\">\n",
       "  <thead>\n",
       "    <tr style=\"text-align: right;\">\n",
       "      <th></th>\n",
       "      <th>step</th>\n",
       "      <th>vazaoVapor</th>\n",
       "      <th>pressaoVapor</th>\n",
       "      <th>temperaturaVapor</th>\n",
       "      <th>cargaVaporTG1</th>\n",
       "      <th>cargaVaporTG2</th>\n",
       "      <th>habilitaTG1</th>\n",
       "      <th>habilitaTG2</th>\n",
       "      <th>potenciaGeradaTG1_2</th>\n",
       "      <th>potenciaGeradaTG2_2</th>\n",
       "      <th>potenciaGeradaTG2_1</th>\n",
       "      <th>potenciaGeradaTG1_1</th>\n",
       "      <th>vazaoVaporEscape</th>\n",
       "      <th>temperaturaVaporEscape</th>\n",
       "      <th>pressaoVaporEscape</th>\n",
       "      <th>consumoEspecificoTG2_2</th>\n",
       "      <th>consumoEspecificoTG2_1</th>\n",
       "      <th>consumoEspecificoTG1_2</th>\n",
       "      <th>consumoEspecificoTG1_1</th>\n",
       "      <th>status</th>\n",
       "    </tr>\n",
       "  </thead>\n",
       "  <tbody>\n",
       "    <tr>\n",
       "      <th>0</th>\n",
       "      <td>0</td>\n",
       "      <td>263.078370</td>\n",
       "      <td>57.419117</td>\n",
       "      <td>728.414570</td>\n",
       "      <td>108.616210</td>\n",
       "      <td>50.721489</td>\n",
       "      <td>0</td>\n",
       "      <td>0</td>\n",
       "      <td>0.0</td>\n",
       "      <td>0.000000</td>\n",
       "      <td>0.000000</td>\n",
       "      <td>0.0</td>\n",
       "      <td>291.986802</td>\n",
       "      <td>403.15</td>\n",
       "      <td>2.3</td>\n",
       "      <td>0.000000</td>\n",
       "      <td>0.000000</td>\n",
       "      <td>0.0</td>\n",
       "      <td>0.0</td>\n",
       "      <td>OK</td>\n",
       "    </tr>\n",
       "    <tr>\n",
       "      <th>1</th>\n",
       "      <td>1</td>\n",
       "      <td>282.103961</td>\n",
       "      <td>58.607302</td>\n",
       "      <td>737.854026</td>\n",
       "      <td>102.122037</td>\n",
       "      <td>50.496216</td>\n",
       "      <td>0</td>\n",
       "      <td>0</td>\n",
       "      <td>0.0</td>\n",
       "      <td>0.000000</td>\n",
       "      <td>0.000000</td>\n",
       "      <td>0.0</td>\n",
       "      <td>318.504931</td>\n",
       "      <td>403.15</td>\n",
       "      <td>2.3</td>\n",
       "      <td>0.000000</td>\n",
       "      <td>0.000000</td>\n",
       "      <td>0.0</td>\n",
       "      <td>0.0</td>\n",
       "      <td>OK</td>\n",
       "    </tr>\n",
       "    <tr>\n",
       "      <th>2</th>\n",
       "      <td>2</td>\n",
       "      <td>261.112878</td>\n",
       "      <td>58.973315</td>\n",
       "      <td>693.887523</td>\n",
       "      <td>103.789047</td>\n",
       "      <td>51.843660</td>\n",
       "      <td>0</td>\n",
       "      <td>0</td>\n",
       "      <td>0.0</td>\n",
       "      <td>0.000000</td>\n",
       "      <td>0.000000</td>\n",
       "      <td>0.0</td>\n",
       "      <td>279.373804</td>\n",
       "      <td>403.15</td>\n",
       "      <td>2.3</td>\n",
       "      <td>0.000000</td>\n",
       "      <td>0.000000</td>\n",
       "      <td>0.0</td>\n",
       "      <td>0.0</td>\n",
       "      <td>OK</td>\n",
       "    </tr>\n",
       "    <tr>\n",
       "      <th>3</th>\n",
       "      <td>3</td>\n",
       "      <td>269.834454</td>\n",
       "      <td>54.318838</td>\n",
       "      <td>748.630084</td>\n",
       "      <td>103.771199</td>\n",
       "      <td>52.995014</td>\n",
       "      <td>0</td>\n",
       "      <td>0</td>\n",
       "      <td>0.0</td>\n",
       "      <td>0.000000</td>\n",
       "      <td>0.000000</td>\n",
       "      <td>0.0</td>\n",
       "      <td>303.054202</td>\n",
       "      <td>403.15</td>\n",
       "      <td>2.3</td>\n",
       "      <td>0.000000</td>\n",
       "      <td>0.000000</td>\n",
       "      <td>0.0</td>\n",
       "      <td>0.0</td>\n",
       "      <td>OK</td>\n",
       "    </tr>\n",
       "    <tr>\n",
       "      <th>4</th>\n",
       "      <td>4</td>\n",
       "      <td>283.190729</td>\n",
       "      <td>54.914962</td>\n",
       "      <td>701.431269</td>\n",
       "      <td>111.697638</td>\n",
       "      <td>50.375678</td>\n",
       "      <td>0</td>\n",
       "      <td>1</td>\n",
       "      <td>0.0</td>\n",
       "      <td>2.537824</td>\n",
       "      <td>6.252941</td>\n",
       "      <td>0.0</td>\n",
       "      <td>306.899172</td>\n",
       "      <td>403.15</td>\n",
       "      <td>2.3</td>\n",
       "      <td>11.969184</td>\n",
       "      <td>8.056317</td>\n",
       "      <td>0.0</td>\n",
       "      <td>0.0</td>\n",
       "      <td>OK</td>\n",
       "    </tr>\n",
       "  </tbody>\n",
       "</table>\n",
       "</div>"
      ],
      "text/plain": [
       "   step  vazaoVapor  pressaoVapor  temperaturaVapor  cargaVaporTG1  \\\n",
       "0     0  263.078370     57.419117        728.414570     108.616210   \n",
       "1     1  282.103961     58.607302        737.854026     102.122037   \n",
       "2     2  261.112878     58.973315        693.887523     103.789047   \n",
       "3     3  269.834454     54.318838        748.630084     103.771199   \n",
       "4     4  283.190729     54.914962        701.431269     111.697638   \n",
       "\n",
       "   cargaVaporTG2  habilitaTG1  habilitaTG2  potenciaGeradaTG1_2  \\\n",
       "0      50.721489            0            0                  0.0   \n",
       "1      50.496216            0            0                  0.0   \n",
       "2      51.843660            0            0                  0.0   \n",
       "3      52.995014            0            0                  0.0   \n",
       "4      50.375678            0            1                  0.0   \n",
       "\n",
       "   potenciaGeradaTG2_2  potenciaGeradaTG2_1  potenciaGeradaTG1_1  \\\n",
       "0             0.000000             0.000000                  0.0   \n",
       "1             0.000000             0.000000                  0.0   \n",
       "2             0.000000             0.000000                  0.0   \n",
       "3             0.000000             0.000000                  0.0   \n",
       "4             2.537824             6.252941                  0.0   \n",
       "\n",
       "   vazaoVaporEscape  temperaturaVaporEscape  pressaoVaporEscape  \\\n",
       "0        291.986802                  403.15                 2.3   \n",
       "1        318.504931                  403.15                 2.3   \n",
       "2        279.373804                  403.15                 2.3   \n",
       "3        303.054202                  403.15                 2.3   \n",
       "4        306.899172                  403.15                 2.3   \n",
       "\n",
       "   consumoEspecificoTG2_2  consumoEspecificoTG2_1  consumoEspecificoTG1_2  \\\n",
       "0                0.000000                0.000000                     0.0   \n",
       "1                0.000000                0.000000                     0.0   \n",
       "2                0.000000                0.000000                     0.0   \n",
       "3                0.000000                0.000000                     0.0   \n",
       "4               11.969184                8.056317                     0.0   \n",
       "\n",
       "   consumoEspecificoTG1_1 status  \n",
       "0                     0.0     OK  \n",
       "1                     0.0     OK  \n",
       "2                     0.0     OK  \n",
       "3                     0.0     OK  \n",
       "4                     0.0     OK  "
      ]
     },
     "execution_count": 2,
     "metadata": {},
     "output_type": "execute_result"
    }
   ],
   "source": [
    "df = pd.read_json('./data/raw/SimulationResult2.json')\n",
    "df.head()"
   ]
  },
  {
   "cell_type": "markdown",
   "metadata": {},
   "source": [
    "As we discussed in the Exploratory Data Analysis, we are going to:\n",
    "- drop the lines with Fail Simulation Status (`status` == \"Falha na simulação\")\n",
    "- Drop the lines with ``potenciaGeradaTG2_2`` < 0 (because this column represent the power generated by the turbine TG2_2, and it can't be negative)\n",
    "- Drop the targets ``temperaturaVaporEscape`` and ``pressaoVaporEscape`` (because they are constant values and only hinder the model from learning)\n",
    "- Create a GroupKFold train-test split, as we learned that many columns of the dataset have low cardinality, and we want to make sure that the model can generalize well to unseen data (i.e., we want to test the model on groups it hasn't seen in training)"
   ]
  },
  {
   "cell_type": "code",
   "execution_count": 3,
   "metadata": {},
   "outputs": [],
   "source": [
    "features = ['vazaoVapor', 'pressaoVapor', 'temperaturaVapor',\n",
    "            'cargaVaporTG1', 'cargaVaporTG2', 'habilitaTG1', 'habilitaTG2']"
   ]
  },
  {
   "cell_type": "code",
   "execution_count": 4,
   "metadata": {},
   "outputs": [],
   "source": [
    "targets = ['consumoEspecificoTG1_1', 'consumoEspecificoTG1_2',\n",
    "           'consumoEspecificoTG2_1', 'consumoEspecificoTG2_2',\n",
    "           'potenciaGeradaTG1_1', 'potenciaGeradaTG1_2',\n",
    "           'potenciaGeradaTG2_1', 'potenciaGeradaTG2_2',\n",
    "           'vazaoVaporEscape']"
   ]
  },
  {
   "cell_type": "code",
   "execution_count": 5,
   "metadata": {},
   "outputs": [],
   "source": [
    "boolean_columns = ['habilitaTG1', 'habilitaTG2']"
   ]
  },
  {
   "cell_type": "code",
   "execution_count": 6,
   "metadata": {},
   "outputs": [],
   "source": [
    "dataset = (df\n",
    "        .query('status == \"OK\" and potenciaGeradaTG2_2 >= 0')\n",
    "        .drop(columns=['status', 'step','temperaturaVaporEscape', 'pressaoVaporEscape']))"
   ]
  },
  {
   "cell_type": "code",
   "execution_count": 7,
   "metadata": {},
   "outputs": [],
   "source": [
    "dataset.to_csv('./data/processed/dataset.csv', index=False)"
   ]
  },
  {
   "cell_type": "code",
   "execution_count": 8,
   "metadata": {},
   "outputs": [
    {
     "data": {
      "text/plain": [
       "0"
      ]
     },
     "execution_count": 8,
     "metadata": {},
     "output_type": "execute_result"
    }
   ],
   "source": [
    "# Check for duplicates\n",
    "dataset.duplicated().sum()"
   ]
  },
  {
   "cell_type": "code",
   "execution_count": 9,
   "metadata": {},
   "outputs": [
    {
     "data": {
      "text/plain": [
       "vazaoVapor                287936\n",
       "pressaoVapor              287936\n",
       "temperaturaVapor          287936\n",
       "cargaVaporTG1             287936\n",
       "cargaVaporTG2             287936\n",
       "habilitaTG1                    2\n",
       "habilitaTG2                    2\n",
       "potenciaGeradaTG1_2       139024\n",
       "potenciaGeradaTG2_2       140644\n",
       "potenciaGeradaTG2_1       141757\n",
       "potenciaGeradaTG1_1       143677\n",
       "vazaoVaporEscape          287771\n",
       "consumoEspecificoTG2_2    115259\n",
       "consumoEspecificoTG2_1    139651\n",
       "consumoEspecificoTG1_2    128923\n",
       "consumoEspecificoTG1_1    143237\n",
       "dtype: int64"
      ]
     },
     "execution_count": 9,
     "metadata": {},
     "output_type": "execute_result"
    }
   ],
   "source": [
    "# Cardinality of each column\n",
    "dataset.nunique()"
   ]
  },
  {
   "cell_type": "code",
   "execution_count": 10,
   "metadata": {},
   "outputs": [
    {
     "data": {
      "text/plain": [
       "habilitaTG1  habilitaTG2\n",
       "0            0              0.253098\n",
       "1            0              0.253053\n",
       "0            1              0.246947\n",
       "1            1              0.246902\n",
       "Name: proportion, dtype: float64"
      ]
     },
     "execution_count": 10,
     "metadata": {},
     "output_type": "execute_result"
    }
   ],
   "source": [
    "# Check the balance of the boolean columns\n",
    "dataset[boolean_columns].value_counts(normalize=True)"
   ]
  },
  {
   "cell_type": "code",
   "execution_count": 11,
   "metadata": {},
   "outputs": [
    {
     "data": {
      "text/html": [
       "<div>\n",
       "<style scoped>\n",
       "    .dataframe tbody tr th:only-of-type {\n",
       "        vertical-align: middle;\n",
       "    }\n",
       "\n",
       "    .dataframe tbody tr th {\n",
       "        vertical-align: top;\n",
       "    }\n",
       "\n",
       "    .dataframe thead th {\n",
       "        text-align: right;\n",
       "    }\n",
       "</style>\n",
       "<table border=\"1\" class=\"dataframe\">\n",
       "  <thead>\n",
       "    <tr style=\"text-align: right;\">\n",
       "      <th></th>\n",
       "      <th>vazaoVapor</th>\n",
       "      <th>pressaoVapor</th>\n",
       "      <th>temperaturaVapor</th>\n",
       "      <th>cargaVaporTG1</th>\n",
       "      <th>cargaVaporTG2</th>\n",
       "      <th>habilitaTG1</th>\n",
       "      <th>habilitaTG2</th>\n",
       "      <th>potenciaGeradaTG1_2</th>\n",
       "      <th>potenciaGeradaTG2_2</th>\n",
       "      <th>potenciaGeradaTG2_1</th>\n",
       "      <th>potenciaGeradaTG1_1</th>\n",
       "      <th>vazaoVaporEscape</th>\n",
       "      <th>consumoEspecificoTG2_2</th>\n",
       "      <th>consumoEspecificoTG2_1</th>\n",
       "      <th>consumoEspecificoTG1_2</th>\n",
       "      <th>consumoEspecificoTG1_1</th>\n",
       "    </tr>\n",
       "  </thead>\n",
       "  <tbody>\n",
       "    <tr>\n",
       "      <th>0</th>\n",
       "      <td>263.078370</td>\n",
       "      <td>57.419117</td>\n",
       "      <td>728.414570</td>\n",
       "      <td>108.616210</td>\n",
       "      <td>50.721489</td>\n",
       "      <td>0</td>\n",
       "      <td>0</td>\n",
       "      <td>0.0</td>\n",
       "      <td>0.000000</td>\n",
       "      <td>0.000000</td>\n",
       "      <td>0.0</td>\n",
       "      <td>291.986802</td>\n",
       "      <td>0.000000</td>\n",
       "      <td>0.000000</td>\n",
       "      <td>0.0</td>\n",
       "      <td>0.0</td>\n",
       "    </tr>\n",
       "    <tr>\n",
       "      <th>1</th>\n",
       "      <td>282.103961</td>\n",
       "      <td>58.607302</td>\n",
       "      <td>737.854026</td>\n",
       "      <td>102.122037</td>\n",
       "      <td>50.496216</td>\n",
       "      <td>0</td>\n",
       "      <td>0</td>\n",
       "      <td>0.0</td>\n",
       "      <td>0.000000</td>\n",
       "      <td>0.000000</td>\n",
       "      <td>0.0</td>\n",
       "      <td>318.504931</td>\n",
       "      <td>0.000000</td>\n",
       "      <td>0.000000</td>\n",
       "      <td>0.0</td>\n",
       "      <td>0.0</td>\n",
       "    </tr>\n",
       "    <tr>\n",
       "      <th>2</th>\n",
       "      <td>261.112878</td>\n",
       "      <td>58.973315</td>\n",
       "      <td>693.887523</td>\n",
       "      <td>103.789047</td>\n",
       "      <td>51.843660</td>\n",
       "      <td>0</td>\n",
       "      <td>0</td>\n",
       "      <td>0.0</td>\n",
       "      <td>0.000000</td>\n",
       "      <td>0.000000</td>\n",
       "      <td>0.0</td>\n",
       "      <td>279.373804</td>\n",
       "      <td>0.000000</td>\n",
       "      <td>0.000000</td>\n",
       "      <td>0.0</td>\n",
       "      <td>0.0</td>\n",
       "    </tr>\n",
       "    <tr>\n",
       "      <th>3</th>\n",
       "      <td>269.834454</td>\n",
       "      <td>54.318838</td>\n",
       "      <td>748.630084</td>\n",
       "      <td>103.771199</td>\n",
       "      <td>52.995014</td>\n",
       "      <td>0</td>\n",
       "      <td>0</td>\n",
       "      <td>0.0</td>\n",
       "      <td>0.000000</td>\n",
       "      <td>0.000000</td>\n",
       "      <td>0.0</td>\n",
       "      <td>303.054202</td>\n",
       "      <td>0.000000</td>\n",
       "      <td>0.000000</td>\n",
       "      <td>0.0</td>\n",
       "      <td>0.0</td>\n",
       "    </tr>\n",
       "    <tr>\n",
       "      <th>4</th>\n",
       "      <td>283.190729</td>\n",
       "      <td>54.914962</td>\n",
       "      <td>701.431269</td>\n",
       "      <td>111.697638</td>\n",
       "      <td>50.375678</td>\n",
       "      <td>0</td>\n",
       "      <td>1</td>\n",
       "      <td>0.0</td>\n",
       "      <td>2.537824</td>\n",
       "      <td>6.252941</td>\n",
       "      <td>0.0</td>\n",
       "      <td>306.899172</td>\n",
       "      <td>11.969184</td>\n",
       "      <td>8.056317</td>\n",
       "      <td>0.0</td>\n",
       "      <td>0.0</td>\n",
       "    </tr>\n",
       "  </tbody>\n",
       "</table>\n",
       "</div>"
      ],
      "text/plain": [
       "   vazaoVapor  pressaoVapor  temperaturaVapor  cargaVaporTG1  cargaVaporTG2  \\\n",
       "0  263.078370     57.419117        728.414570     108.616210      50.721489   \n",
       "1  282.103961     58.607302        737.854026     102.122037      50.496216   \n",
       "2  261.112878     58.973315        693.887523     103.789047      51.843660   \n",
       "3  269.834454     54.318838        748.630084     103.771199      52.995014   \n",
       "4  283.190729     54.914962        701.431269     111.697638      50.375678   \n",
       "\n",
       "   habilitaTG1  habilitaTG2  potenciaGeradaTG1_2  potenciaGeradaTG2_2  \\\n",
       "0            0            0                  0.0             0.000000   \n",
       "1            0            0                  0.0             0.000000   \n",
       "2            0            0                  0.0             0.000000   \n",
       "3            0            0                  0.0             0.000000   \n",
       "4            0            1                  0.0             2.537824   \n",
       "\n",
       "   potenciaGeradaTG2_1  potenciaGeradaTG1_1  vazaoVaporEscape  \\\n",
       "0             0.000000                  0.0        291.986802   \n",
       "1             0.000000                  0.0        318.504931   \n",
       "2             0.000000                  0.0        279.373804   \n",
       "3             0.000000                  0.0        303.054202   \n",
       "4             6.252941                  0.0        306.899172   \n",
       "\n",
       "   consumoEspecificoTG2_2  consumoEspecificoTG2_1  consumoEspecificoTG1_2  \\\n",
       "0                0.000000                0.000000                     0.0   \n",
       "1                0.000000                0.000000                     0.0   \n",
       "2                0.000000                0.000000                     0.0   \n",
       "3                0.000000                0.000000                     0.0   \n",
       "4               11.969184                8.056317                     0.0   \n",
       "\n",
       "   consumoEspecificoTG1_1  \n",
       "0                     0.0  \n",
       "1                     0.0  \n",
       "2                     0.0  \n",
       "3                     0.0  \n",
       "4                     0.0  "
      ]
     },
     "execution_count": 11,
     "metadata": {},
     "output_type": "execute_result"
    }
   ],
   "source": [
    "dataset.head()"
   ]
  },
  {
   "cell_type": "code",
   "execution_count": 12,
   "metadata": {},
   "outputs": [
    {
     "name": "stdout",
     "output_type": "stream",
     "text": [
      "0 columns have low cardinality\n",
      "Percentage of low cardinality unique groups: 0.00%\n"
     ]
    }
   ],
   "source": [
    "low_cardinality_columns = [col for col in dataset.columns if dataset[col].nunique() < 15 and col not in boolean_columns]\n",
    "\n",
    "print(f'{len(low_cardinality_columns)} columns have low cardinality')\n",
    "print(f'Percentage of low cardinality unique groups: {len(low_cardinality_columns) / len(dataset.columns) * 100:.2f}%')"
   ]
  },
  {
   "cell_type": "code",
   "execution_count": 13,
   "metadata": {},
   "outputs": [
    {
     "data": {
      "text/html": [
       "<div>\n",
       "<style scoped>\n",
       "    .dataframe tbody tr th:only-of-type {\n",
       "        vertical-align: middle;\n",
       "    }\n",
       "\n",
       "    .dataframe tbody tr th {\n",
       "        vertical-align: top;\n",
       "    }\n",
       "\n",
       "    .dataframe thead th {\n",
       "        text-align: right;\n",
       "    }\n",
       "</style>\n",
       "<table border=\"1\" class=\"dataframe\">\n",
       "  <thead>\n",
       "    <tr style=\"text-align: right;\">\n",
       "      <th></th>\n",
       "      <th>column</th>\n",
       "      <th>type</th>\n",
       "      <th>nunique</th>\n",
       "    </tr>\n",
       "  </thead>\n",
       "  <tbody>\n",
       "  </tbody>\n",
       "</table>\n",
       "</div>"
      ],
      "text/plain": [
       "Empty DataFrame\n",
       "Columns: [column, type, nunique]\n",
       "Index: []"
      ]
     },
     "execution_count": 13,
     "metadata": {},
     "output_type": "execute_result"
    }
   ],
   "source": [
    "low_card_desc = (dataset[low_cardinality_columns]\n",
    " .nunique()\n",
    " .reset_index()\n",
    " .rename(columns={ 'index': 'column', 0: 'nunique' }))\n",
    "low_card_desc['type'] = low_card_desc['column'].map(lambda x: 'feature' if x in features else 'target')\n",
    "low_card_desc = low_card_desc[['column', 'type', 'nunique']]\n",
    "low_card_desc"
   ]
  },
  {
   "cell_type": "code",
   "execution_count": 14,
   "metadata": {},
   "outputs": [],
   "source": [
    "X, y = dataset[features], dataset[targets]"
   ]
  },
  {
   "cell_type": "code",
   "execution_count": 15,
   "metadata": {},
   "outputs": [],
   "source": [
    "from sklearn.model_selection import train_test_split"
   ]
  },
  {
   "cell_type": "code",
   "execution_count": 16,
   "metadata": {},
   "outputs": [
    {
     "name": "stdout",
     "output_type": "stream",
     "text": [
      "Train: 259,142 (90.0%) samples\n",
      "Test: 14,397 (5.0%) samples\n",
      "Validation: 14,397 (5.0%) samples\n"
     ]
    }
   ],
   "source": [
    "# Train set and Test set split by random sampling\n",
    "X_train, X_test_full, y_train, y_test_full = train_test_split(X, y, test_size=0.1, random_state=42)\n",
    "X_test, X_val, y_test, y_val = train_test_split(X_test_full, y_test_full, test_size=0.5, random_state=42)\n",
    "\n",
    "assert len(X_train) + len(X_test) + len(X_val) == len(X)\n",
    "assert len(y_train) + len(y_test) + len(y_val)== len(y)\n",
    "assert len(X) == len(y)\n",
    "assert len(X) == len(dataset)\n",
    "\n",
    "print(f'Train: {len(X_train):,} ({len(X_train)/len(dataset):.1%}) samples')\n",
    "print(f'Test: {len(X_test):,} ({len(X_test)/len(dataset):.1%}) samples')\n",
    "print(f'Validation: {len(X_val):,} ({len(X_val)/len(dataset):.1%}) samples')\n",
    "\n",
    "X_train.to_csv('./data/processed/X_train.csv', index=False)\n",
    "X_test.to_csv('./data/processed/X_test.csv', index=False)\n",
    "X_val.to_csv('./data/processed/X_val.csv', index=False)\n",
    "y_train.to_csv('./data/processed/y_train.csv', index=False)\n",
    "y_test.to_csv('./data/processed/y_test.csv', index=False)\n",
    "y_val.to_csv('./data/processed/y_val.csv', index=False)"
   ]
  }
 ],
 "metadata": {
  "kernelspec": {
   "display_name": "Python 3",
   "language": "python",
   "name": "python3"
  },
  "language_info": {
   "codemirror_mode": {
    "name": "ipython",
    "version": 3
   },
   "file_extension": ".py",
   "mimetype": "text/x-python",
   "name": "python",
   "nbconvert_exporter": "python",
   "pygments_lexer": "ipython3",
   "version": "3.9.13"
  }
 },
 "nbformat": 4,
 "nbformat_minor": 2
}
