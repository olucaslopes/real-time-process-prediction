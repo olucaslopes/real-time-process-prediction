{
 "cells": [
  {
   "cell_type": "markdown",
   "metadata": {},
   "source": [
    "# Data Prep\n",
    "\n",
    "In this notebook we:\n",
    "- Load the data\n",
    "- Check for missing values\n",
    "- Check for duplicates\n",
    "- Clean the data\n",
    "- Split the data into train, validation and test sets\n",
    "\n",
    "## Summary\n",
    "\n",
    "#### Strategies for splitting the data\n",
    "\n",
    "Even though most of the columns are floats, we have some columns with low cardinality. This can be a problem when splitting the data into train, validation and test sets. If we split the data randomly, we can end up with records with the same value in the low cardinality columns in the training and validation/test sets. This can lead to data leakage and the model will not generalize well to unseen data i.e. the model will learn how to predict for only the small subset of values in the low cardinality columns and will not be able to generalize to unseen values.\n",
    "\n",
    "To avoid this problem, we will use the following strategies to split the data:\n",
    "\n",
    "1. **GroupKFold**: We will split the data into 5 groups based on the the low cardinallity columns. We will use 4 groups for training and with the remaining group we will split it into validation and test sets. This way, we can make sure that the model generalizes well to unseen data. The proportion of the data in each group is approximately 80% for training and 10% for validation and test sets.\n",
    "2. **LeaveOneGroupOut**: We will use this strategy to evaluate the model's performance on unseen targets (for the low cardinality targets `potenciaGeradaTG1_2`, `consumoEspecificoTG1_2`). We will leave two non zero groups out for validation and test sets.\n",
    "3. **RandomSplit**: We will use this strategy to split the data into training, validation and test sets only for comparison purposes."
   ]
  },
  {
   "cell_type": "code",
   "execution_count": 1,
   "metadata": {},
   "outputs": [],
   "source": [
    "import pandas as pd\n",
    "import numpy as np\n",
    "from sklearn.model_selection import GroupKFold"
   ]
  },
  {
   "cell_type": "code",
   "execution_count": 2,
   "metadata": {},
   "outputs": [
    {
     "data": {
      "text/html": [
       "<div>\n",
       "<style scoped>\n",
       "    .dataframe tbody tr th:only-of-type {\n",
       "        vertical-align: middle;\n",
       "    }\n",
       "\n",
       "    .dataframe tbody tr th {\n",
       "        vertical-align: top;\n",
       "    }\n",
       "\n",
       "    .dataframe thead th {\n",
       "        text-align: right;\n",
       "    }\n",
       "</style>\n",
       "<table border=\"1\" class=\"dataframe\">\n",
       "  <thead>\n",
       "    <tr style=\"text-align: right;\">\n",
       "      <th></th>\n",
       "      <th>step</th>\n",
       "      <th>vazaoVapor</th>\n",
       "      <th>pressaoVapor</th>\n",
       "      <th>temperaturaVapor</th>\n",
       "      <th>cargaVaporTG1</th>\n",
       "      <th>cargaVaporTG2</th>\n",
       "      <th>habilitaTG1</th>\n",
       "      <th>habilitaTG2</th>\n",
       "      <th>potenciaGeradaTG1_2</th>\n",
       "      <th>potenciaGeradaTG2_2</th>\n",
       "      <th>potenciaGeradaTG2_1</th>\n",
       "      <th>potenciaGeradaTG1_1</th>\n",
       "      <th>vazaoVaporEscape</th>\n",
       "      <th>temperaturaVaporEscape</th>\n",
       "      <th>pressaoVaporEscape</th>\n",
       "      <th>consumoEspecificoTG2_2</th>\n",
       "      <th>consumoEspecificoTG2_1</th>\n",
       "      <th>consumoEspecificoTG1_2</th>\n",
       "      <th>consumoEspecificoTG1_1</th>\n",
       "      <th>status</th>\n",
       "    </tr>\n",
       "  </thead>\n",
       "  <tbody>\n",
       "    <tr>\n",
       "      <th>0</th>\n",
       "      <td>0</td>\n",
       "      <td>273.0</td>\n",
       "      <td>57.0</td>\n",
       "      <td>718.0</td>\n",
       "      <td>107.0</td>\n",
       "      <td>53.000</td>\n",
       "      <td>0</td>\n",
       "      <td>0</td>\n",
       "      <td>0.000000</td>\n",
       "      <td>0.000000</td>\n",
       "      <td>0.000000</td>\n",
       "      <td>0.000000</td>\n",
       "      <td>298.992329</td>\n",
       "      <td>403.15</td>\n",
       "      <td>2.3</td>\n",
       "      <td>0.000000</td>\n",
       "      <td>0.000000</td>\n",
       "      <td>0.000000</td>\n",
       "      <td>0.000000</td>\n",
       "      <td>OK</td>\n",
       "    </tr>\n",
       "    <tr>\n",
       "      <th>1</th>\n",
       "      <td>1</td>\n",
       "      <td>273.0</td>\n",
       "      <td>57.0</td>\n",
       "      <td>718.0</td>\n",
       "      <td>107.0</td>\n",
       "      <td>53.000</td>\n",
       "      <td>0</td>\n",
       "      <td>1</td>\n",
       "      <td>0.000000</td>\n",
       "      <td>2.743378</td>\n",
       "      <td>7.277625</td>\n",
       "      <td>0.000000</td>\n",
       "      <td>294.620543</td>\n",
       "      <td>403.15</td>\n",
       "      <td>2.3</td>\n",
       "      <td>12.028968</td>\n",
       "      <td>7.282596</td>\n",
       "      <td>0.000000</td>\n",
       "      <td>0.000000</td>\n",
       "      <td>OK</td>\n",
       "    </tr>\n",
       "    <tr>\n",
       "      <th>2</th>\n",
       "      <td>2</td>\n",
       "      <td>273.0</td>\n",
       "      <td>57.0</td>\n",
       "      <td>718.0</td>\n",
       "      <td>107.0</td>\n",
       "      <td>53.000</td>\n",
       "      <td>1</td>\n",
       "      <td>0</td>\n",
       "      <td>13.876143</td>\n",
       "      <td>0.000000</td>\n",
       "      <td>0.000000</td>\n",
       "      <td>3.107132</td>\n",
       "      <td>254.569586</td>\n",
       "      <td>403.15</td>\n",
       "      <td>2.3</td>\n",
       "      <td>0.000000</td>\n",
       "      <td>0.000000</td>\n",
       "      <td>7.711077</td>\n",
       "      <td>34.436903</td>\n",
       "      <td>OK</td>\n",
       "    </tr>\n",
       "    <tr>\n",
       "      <th>3</th>\n",
       "      <td>3</td>\n",
       "      <td>273.0</td>\n",
       "      <td>57.0</td>\n",
       "      <td>718.0</td>\n",
       "      <td>107.0</td>\n",
       "      <td>53.000</td>\n",
       "      <td>1</td>\n",
       "      <td>1</td>\n",
       "      <td>13.876143</td>\n",
       "      <td>2.743378</td>\n",
       "      <td>7.277625</td>\n",
       "      <td>3.107132</td>\n",
       "      <td>254.569586</td>\n",
       "      <td>403.15</td>\n",
       "      <td>2.3</td>\n",
       "      <td>12.028968</td>\n",
       "      <td>7.282596</td>\n",
       "      <td>7.711077</td>\n",
       "      <td>34.436903</td>\n",
       "      <td>OK</td>\n",
       "    </tr>\n",
       "    <tr>\n",
       "      <th>4</th>\n",
       "      <td>4</td>\n",
       "      <td>273.0</td>\n",
       "      <td>57.0</td>\n",
       "      <td>718.0</td>\n",
       "      <td>107.0</td>\n",
       "      <td>61.375</td>\n",
       "      <td>0</td>\n",
       "      <td>0</td>\n",
       "      <td>0.000000</td>\n",
       "      <td>0.000000</td>\n",
       "      <td>0.000000</td>\n",
       "      <td>0.000000</td>\n",
       "      <td>288.558739</td>\n",
       "      <td>403.15</td>\n",
       "      <td>2.3</td>\n",
       "      <td>0.000000</td>\n",
       "      <td>0.000000</td>\n",
       "      <td>0.000000</td>\n",
       "      <td>0.000000</td>\n",
       "      <td>OK</td>\n",
       "    </tr>\n",
       "  </tbody>\n",
       "</table>\n",
       "</div>"
      ],
      "text/plain": [
       "   step  vazaoVapor  pressaoVapor  temperaturaVapor  cargaVaporTG1  \\\n",
       "0     0       273.0          57.0             718.0          107.0   \n",
       "1     1       273.0          57.0             718.0          107.0   \n",
       "2     2       273.0          57.0             718.0          107.0   \n",
       "3     3       273.0          57.0             718.0          107.0   \n",
       "4     4       273.0          57.0             718.0          107.0   \n",
       "\n",
       "   cargaVaporTG2  habilitaTG1  habilitaTG2  potenciaGeradaTG1_2  \\\n",
       "0         53.000            0            0             0.000000   \n",
       "1         53.000            0            1             0.000000   \n",
       "2         53.000            1            0            13.876143   \n",
       "3         53.000            1            1            13.876143   \n",
       "4         61.375            0            0             0.000000   \n",
       "\n",
       "   potenciaGeradaTG2_2  potenciaGeradaTG2_1  potenciaGeradaTG1_1  \\\n",
       "0             0.000000             0.000000             0.000000   \n",
       "1             2.743378             7.277625             0.000000   \n",
       "2             0.000000             0.000000             3.107132   \n",
       "3             2.743378             7.277625             3.107132   \n",
       "4             0.000000             0.000000             0.000000   \n",
       "\n",
       "   vazaoVaporEscape  temperaturaVaporEscape  pressaoVaporEscape  \\\n",
       "0        298.992329                  403.15                 2.3   \n",
       "1        294.620543                  403.15                 2.3   \n",
       "2        254.569586                  403.15                 2.3   \n",
       "3        254.569586                  403.15                 2.3   \n",
       "4        288.558739                  403.15                 2.3   \n",
       "\n",
       "   consumoEspecificoTG2_2  consumoEspecificoTG2_1  consumoEspecificoTG1_2  \\\n",
       "0                0.000000                0.000000                0.000000   \n",
       "1               12.028968                7.282596                0.000000   \n",
       "2                0.000000                0.000000                7.711077   \n",
       "3               12.028968                7.282596                7.711077   \n",
       "4                0.000000                0.000000                0.000000   \n",
       "\n",
       "   consumoEspecificoTG1_1 status  \n",
       "0                0.000000     OK  \n",
       "1                0.000000     OK  \n",
       "2               34.436903     OK  \n",
       "3               34.436903     OK  \n",
       "4                0.000000     OK  "
      ]
     },
     "execution_count": 2,
     "metadata": {},
     "output_type": "execute_result"
    }
   ],
   "source": [
    "df = pd.read_json('./data/raw/SimulationResult.json')\n",
    "df.head()"
   ]
  },
  {
   "cell_type": "markdown",
   "metadata": {},
   "source": [
    "As we discussed in the Exploratory Data Analysis, we are going to:\n",
    "- drop the lines with Fail Simulation Status (`status` == \"Falha na simulação\")\n",
    "- Drop the lines with ``potenciaGeradaTG2_2`` < 0 (because this column represent the power generated by the turbine TG2_2, and it can't be negative)\n",
    "- Drop the targets ``temperaturaVaporEscape`` and ``pressaoVaporEscape`` (because they are constant values and only hinder the model from learning)\n",
    "- Create a GroupKFold train-test split, as we learned that many columns of the dataset have low cardinality, and we want to make sure that the model can generalize well to unseen data (i.e., we want to test the model on groups it hasn't seen in training)"
   ]
  },
  {
   "cell_type": "code",
   "execution_count": 3,
   "metadata": {},
   "outputs": [],
   "source": [
    "features = ['vazaoVapor', 'pressaoVapor', 'temperaturaVapor',\n",
    "            'cargaVaporTG1', 'cargaVaporTG2', 'habilitaTG1', 'habilitaTG2']"
   ]
  },
  {
   "cell_type": "code",
   "execution_count": 4,
   "metadata": {},
   "outputs": [],
   "source": [
    "targets = ['consumoEspecificoTG1_1', 'consumoEspecificoTG1_2',\n",
    "           'consumoEspecificoTG2_1', 'consumoEspecificoTG2_2',\n",
    "           'potenciaGeradaTG1_1', 'potenciaGeradaTG1_2',\n",
    "           'potenciaGeradaTG2_1', 'potenciaGeradaTG2_2',\n",
    "           'vazaoVaporEscape']"
   ]
  },
  {
   "cell_type": "code",
   "execution_count": 5,
   "metadata": {},
   "outputs": [],
   "source": [
    "boolean_columns = ['habilitaTG1', 'habilitaTG2']"
   ]
  },
  {
   "cell_type": "code",
   "execution_count": 6,
   "metadata": {},
   "outputs": [],
   "source": [
    "dataset = (df\n",
    "        .query('status == \"OK\" and potenciaGeradaTG2_2 >= 0')\n",
    "        .drop(columns=['status', 'step','temperaturaVaporEscape', 'pressaoVaporEscape']))"
   ]
  },
  {
   "cell_type": "code",
   "execution_count": 7,
   "metadata": {},
   "outputs": [],
   "source": [
    "dataset.to_csv('./data/processed/dataset.csv', index=False)"
   ]
  },
  {
   "cell_type": "code",
   "execution_count": 8,
   "metadata": {},
   "outputs": [
    {
     "data": {
      "text/plain": [
       "0"
      ]
     },
     "execution_count": 8,
     "metadata": {},
     "output_type": "execute_result"
    }
   ],
   "source": [
    "# Check for duplicates\n",
    "dataset.duplicated().sum()"
   ]
  },
  {
   "cell_type": "code",
   "execution_count": 9,
   "metadata": {},
   "outputs": [
    {
     "data": {
      "text/plain": [
       "vazaoVapor                    9\n",
       "pressaoVapor                  5\n",
       "temperaturaVapor              5\n",
       "cargaVaporTG1                 9\n",
       "cargaVaporTG2                 9\n",
       "habilitaTG1                   2\n",
       "habilitaTG2                   2\n",
       "potenciaGeradaTG1_2          10\n",
       "potenciaGeradaTG2_2          34\n",
       "potenciaGeradaTG2_1         826\n",
       "potenciaGeradaTG1_1         226\n",
       "vazaoVaporEscape          58054\n",
       "consumoEspecificoTG2_2       34\n",
       "consumoEspecificoTG2_1      826\n",
       "consumoEspecificoTG1_2       10\n",
       "consumoEspecificoTG1_1      226\n",
       "dtype: int64"
      ]
     },
     "execution_count": 9,
     "metadata": {},
     "output_type": "execute_result"
    }
   ],
   "source": [
    "# Cardinality of each column\n",
    "dataset.nunique()"
   ]
  },
  {
   "cell_type": "code",
   "execution_count": 10,
   "metadata": {},
   "outputs": [
    {
     "data": {
      "text/html": [
       "<div>\n",
       "<style scoped>\n",
       "    .dataframe tbody tr th:only-of-type {\n",
       "        vertical-align: middle;\n",
       "    }\n",
       "\n",
       "    .dataframe tbody tr th {\n",
       "        vertical-align: top;\n",
       "    }\n",
       "\n",
       "    .dataframe thead th {\n",
       "        text-align: right;\n",
       "    }\n",
       "</style>\n",
       "<table border=\"1\" class=\"dataframe\">\n",
       "  <thead>\n",
       "    <tr style=\"text-align: right;\">\n",
       "      <th></th>\n",
       "      <th>vazaoVapor</th>\n",
       "      <th>pressaoVapor</th>\n",
       "      <th>temperaturaVapor</th>\n",
       "      <th>cargaVaporTG1</th>\n",
       "      <th>cargaVaporTG2</th>\n",
       "      <th>habilitaTG1</th>\n",
       "      <th>habilitaTG2</th>\n",
       "      <th>potenciaGeradaTG1_2</th>\n",
       "      <th>potenciaGeradaTG2_2</th>\n",
       "      <th>potenciaGeradaTG2_1</th>\n",
       "      <th>potenciaGeradaTG1_1</th>\n",
       "      <th>vazaoVaporEscape</th>\n",
       "      <th>consumoEspecificoTG2_2</th>\n",
       "      <th>consumoEspecificoTG2_1</th>\n",
       "      <th>consumoEspecificoTG1_2</th>\n",
       "      <th>consumoEspecificoTG1_1</th>\n",
       "    </tr>\n",
       "  </thead>\n",
       "  <tbody>\n",
       "    <tr>\n",
       "      <th>0</th>\n",
       "      <td>273.0</td>\n",
       "      <td>57.0</td>\n",
       "      <td>718.0</td>\n",
       "      <td>107.0</td>\n",
       "      <td>53.000</td>\n",
       "      <td>0</td>\n",
       "      <td>0</td>\n",
       "      <td>0.000000</td>\n",
       "      <td>0.000000</td>\n",
       "      <td>0.000000</td>\n",
       "      <td>0.000000</td>\n",
       "      <td>298.992329</td>\n",
       "      <td>0.000000</td>\n",
       "      <td>0.000000</td>\n",
       "      <td>0.000000</td>\n",
       "      <td>0.000000</td>\n",
       "    </tr>\n",
       "    <tr>\n",
       "      <th>1</th>\n",
       "      <td>273.0</td>\n",
       "      <td>57.0</td>\n",
       "      <td>718.0</td>\n",
       "      <td>107.0</td>\n",
       "      <td>53.000</td>\n",
       "      <td>0</td>\n",
       "      <td>1</td>\n",
       "      <td>0.000000</td>\n",
       "      <td>2.743378</td>\n",
       "      <td>7.277625</td>\n",
       "      <td>0.000000</td>\n",
       "      <td>294.620543</td>\n",
       "      <td>12.028968</td>\n",
       "      <td>7.282596</td>\n",
       "      <td>0.000000</td>\n",
       "      <td>0.000000</td>\n",
       "    </tr>\n",
       "    <tr>\n",
       "      <th>2</th>\n",
       "      <td>273.0</td>\n",
       "      <td>57.0</td>\n",
       "      <td>718.0</td>\n",
       "      <td>107.0</td>\n",
       "      <td>53.000</td>\n",
       "      <td>1</td>\n",
       "      <td>0</td>\n",
       "      <td>13.876143</td>\n",
       "      <td>0.000000</td>\n",
       "      <td>0.000000</td>\n",
       "      <td>3.107132</td>\n",
       "      <td>254.569586</td>\n",
       "      <td>0.000000</td>\n",
       "      <td>0.000000</td>\n",
       "      <td>7.711077</td>\n",
       "      <td>34.436903</td>\n",
       "    </tr>\n",
       "    <tr>\n",
       "      <th>3</th>\n",
       "      <td>273.0</td>\n",
       "      <td>57.0</td>\n",
       "      <td>718.0</td>\n",
       "      <td>107.0</td>\n",
       "      <td>53.000</td>\n",
       "      <td>1</td>\n",
       "      <td>1</td>\n",
       "      <td>13.876143</td>\n",
       "      <td>2.743378</td>\n",
       "      <td>7.277625</td>\n",
       "      <td>3.107132</td>\n",
       "      <td>254.569586</td>\n",
       "      <td>12.028968</td>\n",
       "      <td>7.282596</td>\n",
       "      <td>7.711077</td>\n",
       "      <td>34.436903</td>\n",
       "    </tr>\n",
       "    <tr>\n",
       "      <th>4</th>\n",
       "      <td>273.0</td>\n",
       "      <td>57.0</td>\n",
       "      <td>718.0</td>\n",
       "      <td>107.0</td>\n",
       "      <td>61.375</td>\n",
       "      <td>0</td>\n",
       "      <td>0</td>\n",
       "      <td>0.000000</td>\n",
       "      <td>0.000000</td>\n",
       "      <td>0.000000</td>\n",
       "      <td>0.000000</td>\n",
       "      <td>288.558739</td>\n",
       "      <td>0.000000</td>\n",
       "      <td>0.000000</td>\n",
       "      <td>0.000000</td>\n",
       "      <td>0.000000</td>\n",
       "    </tr>\n",
       "  </tbody>\n",
       "</table>\n",
       "</div>"
      ],
      "text/plain": [
       "   vazaoVapor  pressaoVapor  temperaturaVapor  cargaVaporTG1  cargaVaporTG2  \\\n",
       "0       273.0          57.0             718.0          107.0         53.000   \n",
       "1       273.0          57.0             718.0          107.0         53.000   \n",
       "2       273.0          57.0             718.0          107.0         53.000   \n",
       "3       273.0          57.0             718.0          107.0         53.000   \n",
       "4       273.0          57.0             718.0          107.0         61.375   \n",
       "\n",
       "   habilitaTG1  habilitaTG2  potenciaGeradaTG1_2  potenciaGeradaTG2_2  \\\n",
       "0            0            0             0.000000             0.000000   \n",
       "1            0            1             0.000000             2.743378   \n",
       "2            1            0            13.876143             0.000000   \n",
       "3            1            1            13.876143             2.743378   \n",
       "4            0            0             0.000000             0.000000   \n",
       "\n",
       "   potenciaGeradaTG2_1  potenciaGeradaTG1_1  vazaoVaporEscape  \\\n",
       "0             0.000000             0.000000        298.992329   \n",
       "1             7.277625             0.000000        294.620543   \n",
       "2             0.000000             3.107132        254.569586   \n",
       "3             7.277625             3.107132        254.569586   \n",
       "4             0.000000             0.000000        288.558739   \n",
       "\n",
       "   consumoEspecificoTG2_2  consumoEspecificoTG2_1  consumoEspecificoTG1_2  \\\n",
       "0                0.000000                0.000000                0.000000   \n",
       "1               12.028968                7.282596                0.000000   \n",
       "2                0.000000                0.000000                7.711077   \n",
       "3               12.028968                7.282596                7.711077   \n",
       "4                0.000000                0.000000                0.000000   \n",
       "\n",
       "   consumoEspecificoTG1_1  \n",
       "0                0.000000  \n",
       "1                0.000000  \n",
       "2               34.436903  \n",
       "3               34.436903  \n",
       "4                0.000000  "
      ]
     },
     "execution_count": 10,
     "metadata": {},
     "output_type": "execute_result"
    }
   ],
   "source": [
    "dataset.head()"
   ]
  },
  {
   "cell_type": "code",
   "execution_count": 11,
   "metadata": {},
   "outputs": [
    {
     "name": "stdout",
     "output_type": "stream",
     "text": [
      "7 columns have low cardinality\n",
      "Percentage of low cardinality unique groups: 43.75%\n"
     ]
    }
   ],
   "source": [
    "low_cardinality_columns = [col for col in dataset.columns if dataset[col].nunique() < 15 and col not in boolean_columns]\n",
    "\n",
    "print(f'{len(low_cardinality_columns)} columns have low cardinality')\n",
    "print(f'Percentage of low cardinality unique groups: {len(low_cardinality_columns) / len(dataset.columns) * 100:.2f}%')"
   ]
  },
  {
   "cell_type": "code",
   "execution_count": 12,
   "metadata": {},
   "outputs": [
    {
     "data": {
      "text/html": [
       "<div>\n",
       "<style scoped>\n",
       "    .dataframe tbody tr th:only-of-type {\n",
       "        vertical-align: middle;\n",
       "    }\n",
       "\n",
       "    .dataframe tbody tr th {\n",
       "        vertical-align: top;\n",
       "    }\n",
       "\n",
       "    .dataframe thead th {\n",
       "        text-align: right;\n",
       "    }\n",
       "</style>\n",
       "<table border=\"1\" class=\"dataframe\">\n",
       "  <thead>\n",
       "    <tr style=\"text-align: right;\">\n",
       "      <th></th>\n",
       "      <th>column</th>\n",
       "      <th>type</th>\n",
       "      <th>nunique</th>\n",
       "    </tr>\n",
       "  </thead>\n",
       "  <tbody>\n",
       "    <tr>\n",
       "      <th>0</th>\n",
       "      <td>vazaoVapor</td>\n",
       "      <td>feature</td>\n",
       "      <td>9</td>\n",
       "    </tr>\n",
       "    <tr>\n",
       "      <th>1</th>\n",
       "      <td>pressaoVapor</td>\n",
       "      <td>feature</td>\n",
       "      <td>5</td>\n",
       "    </tr>\n",
       "    <tr>\n",
       "      <th>2</th>\n",
       "      <td>temperaturaVapor</td>\n",
       "      <td>feature</td>\n",
       "      <td>5</td>\n",
       "    </tr>\n",
       "    <tr>\n",
       "      <th>3</th>\n",
       "      <td>cargaVaporTG1</td>\n",
       "      <td>feature</td>\n",
       "      <td>9</td>\n",
       "    </tr>\n",
       "    <tr>\n",
       "      <th>4</th>\n",
       "      <td>cargaVaporTG2</td>\n",
       "      <td>feature</td>\n",
       "      <td>9</td>\n",
       "    </tr>\n",
       "    <tr>\n",
       "      <th>5</th>\n",
       "      <td>potenciaGeradaTG1_2</td>\n",
       "      <td>target</td>\n",
       "      <td>10</td>\n",
       "    </tr>\n",
       "    <tr>\n",
       "      <th>6</th>\n",
       "      <td>consumoEspecificoTG1_2</td>\n",
       "      <td>target</td>\n",
       "      <td>10</td>\n",
       "    </tr>\n",
       "  </tbody>\n",
       "</table>\n",
       "</div>"
      ],
      "text/plain": [
       "                   column     type  nunique\n",
       "0              vazaoVapor  feature        9\n",
       "1            pressaoVapor  feature        5\n",
       "2        temperaturaVapor  feature        5\n",
       "3           cargaVaporTG1  feature        9\n",
       "4           cargaVaporTG2  feature        9\n",
       "5     potenciaGeradaTG1_2   target       10\n",
       "6  consumoEspecificoTG1_2   target       10"
      ]
     },
     "execution_count": 12,
     "metadata": {},
     "output_type": "execute_result"
    }
   ],
   "source": [
    "low_card_desc = (dataset[low_cardinality_columns]\n",
    " .nunique()\n",
    " .reset_index()\n",
    " .rename(columns={ 'index': 'column', 0: 'nunique' }))\n",
    "low_card_desc['type'] = low_card_desc['column'].map(lambda x: 'feature' if x in features else 'target')\n",
    "low_card_desc = low_card_desc[['column', 'type', 'nunique']]\n",
    "low_card_desc"
   ]
  },
  {
   "cell_type": "code",
   "execution_count": 13,
   "metadata": {},
   "outputs": [
    {
     "name": "stdout",
     "output_type": "stream",
     "text": [
      "There are 36,450 unique combinations of floats in the dataset (50.6% of the dataset)\n"
     ]
    }
   ],
   "source": [
    "# Add id to the group of low cardinality columns\n",
    "dataset['group_id'] = dataset.groupby(low_cardinality_columns).ngroup()\n",
    "n_groups = dataset['group_id'].nunique()\n",
    "print(f'There are {n_groups:,} unique combinations of floats in the dataset ({n_groups/len(dataset):.1%} of the dataset)')"
   ]
  },
  {
   "cell_type": "code",
   "execution_count": 14,
   "metadata": {},
   "outputs": [],
   "source": [
    "X, y = dataset[features], dataset[targets]"
   ]
  },
  {
   "cell_type": "code",
   "execution_count": 22,
   "metadata": {},
   "outputs": [
    {
     "data": {
      "text/plain": [
       "10"
      ]
     },
     "execution_count": 22,
     "metadata": {},
     "output_type": "execute_result"
    }
   ],
   "source": [
    "group_kfold = GroupKFold(n_splits=5)\n",
    "group_kfold.get_n_splits(X, y, dataset['group_id'])"
   ]
  },
  {
   "cell_type": "code",
   "execution_count": 16,
   "metadata": {},
   "outputs": [
    {
     "name": "stdout",
     "output_type": "stream",
     "text": [
      "Fold 0:\n",
      "Train: 57576 samples\n",
      "Test: 14395 samples\n",
      "Groups in train: 29160\n",
      "Groups in test: 7290\n",
      "\n",
      "Fold 1:\n",
      "Train: 57577 samples\n",
      "Test: 14394 samples\n",
      "Groups in train: 29160\n",
      "Groups in test: 7290\n",
      "\n",
      "Fold 2:\n",
      "Train: 57577 samples\n",
      "Test: 14394 samples\n",
      "Groups in train: 29160\n",
      "Groups in test: 7290\n",
      "\n",
      "Fold 3:\n",
      "Train: 57577 samples\n",
      "Test: 14394 samples\n",
      "Groups in train: 29160\n",
      "Groups in test: 7290\n",
      "\n",
      "Fold 4:\n",
      "Train: 57577 samples\n",
      "Test: 14394 samples\n",
      "Groups in train: 29160\n",
      "Groups in test: 7290\n",
      "\n"
     ]
    }
   ],
   "source": [
    "for i, (train_index, test_index) in enumerate(group_kfold.split(X, y, dataset['group_id'])):\n",
    "    print(f'Fold {i}:')\n",
    "    print(f'Train: {len(train_index)} samples')\n",
    "    print(f'Test: {len(test_index)} samples')\n",
    "    print(f'Groups in train: {dataset.iloc[train_index][\"group_id\"].nunique()}')\n",
    "    print(f'Groups in test: {dataset.iloc[test_index][\"group_id\"].nunique()}')\n",
    "    print()"
   ]
  },
  {
   "cell_type": "code",
   "execution_count": 17,
   "metadata": {},
   "outputs": [
    {
     "name": "stdout",
     "output_type": "stream",
     "text": [
      "Train: 57576 samples\n"
     ]
    }
   ],
   "source": [
    "# Train set and Val set split by group\n",
    "train_index, test_index = next(group_kfold.split(X, y, dataset['group_id']))\n",
    "\n",
    "X_train, y_train = X.iloc[train_index], y.iloc[train_index]\n",
    "X_test, y_test = X.iloc[test_index], y.iloc[test_index]\n",
    "\n",
    "assert len(X_train) + len(X_test) == len(X)\n",
    "assert len(y_train) + len(y_test) == len(y)\n",
    "assert len(X) == len(y)\n",
    "assert len(X) == len(dataset)\n",
    "\n",
    "print(f'Train: {len(X_train)} samples')"
   ]
  },
  {
   "cell_type": "code",
   "execution_count": 18,
   "metadata": {},
   "outputs": [
    {
     "name": "stdout",
     "output_type": "stream",
     "text": [
      "Validation: 7198 samples\n",
      "Test: 7197 samples\n"
     ]
    }
   ],
   "source": [
    "# Create validation set\n",
    "group_kfold = GroupKFold(n_splits=2)\n",
    "\n",
    "X_test_group_id = pd.concat([X_test, y_test], axis='columns').groupby(low_cardinality_columns).ngroup()\n",
    "\n",
    "train_index, val_index = next(group_kfold.split(X_test, y_test, X_test_group_id))\n",
    "\n",
    "X_val, y_val = X_test.iloc[val_index], y_test.iloc[val_index]\n",
    "X_test, y_test = X_test.iloc[train_index], y_test.iloc[train_index]\n",
    "\n",
    "print(f'Validation: {len(X_val)} samples')\n",
    "print(f'Test: {len(X_test)} samples')"
   ]
  },
  {
   "cell_type": "code",
   "execution_count": 19,
   "metadata": {},
   "outputs": [],
   "source": [
    "low_card_values = {\n",
    "    col: dataset[col].unique()\n",
    "    for col in low_cardinality_columns\n",
    "}"
   ]
  },
  {
   "cell_type": "code",
   "execution_count": 20,
   "metadata": {},
   "outputs": [
    {
     "data": {
      "text/plain": [
       "{'vazaoVapor': array([273.   , 290.875, 308.75 , 326.625, 344.5  , 362.375, 380.25 ,\n",
       "        398.125, 416.   ]),\n",
       " 'pressaoVapor': array([57. , 58.5, 60. , 61.5, 63. ]),\n",
       " 'temperaturaVapor': array([718.  , 757.75, 797.5 , 837.25, 877.  ]),\n",
       " 'cargaVaporTG1': array([107. , 127.5, 148. , 168.5, 189. , 209.5, 230. , 250.5, 271. ]),\n",
       " 'cargaVaporTG2': array([ 53.   ,  61.375,  69.75 ,  78.125,  86.5  ,  94.875, 103.25 ,\n",
       "        111.625, 120.   ]),\n",
       " 'potenciaGeradaTG1_2': array([ 0.      , 13.876143, 16.187112, 17.105682, 18.317565, 20.189402,\n",
       "        21.626417, 21.611867, 22.235001, 26.134906]),\n",
       " 'consumoEspecificoTG1_2': array([ 0.      ,  7.711077,  7.876637,  8.652096,  9.198821,  9.361347,\n",
       "         9.687226, 10.642301, 11.266021, 10.369274])}"
      ]
     },
     "execution_count": 20,
     "metadata": {},
     "output_type": "execute_result"
    }
   ],
   "source": [
    "low_card_values"
   ]
  }
 ],
 "metadata": {
  "kernelspec": {
   "display_name": "Python 3",
   "language": "python",
   "name": "python3"
  },
  "language_info": {
   "codemirror_mode": {
    "name": "ipython",
    "version": 3
   },
   "file_extension": ".py",
   "mimetype": "text/x-python",
   "name": "python",
   "nbconvert_exporter": "python",
   "pygments_lexer": "ipython3",
   "version": "3.9.13"
  }
 },
 "nbformat": 4,
 "nbformat_minor": 2
}
