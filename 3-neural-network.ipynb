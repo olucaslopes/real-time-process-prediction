{
 "cells": [
  {
   "cell_type": "markdown",
   "metadata": {},
   "source": [
    "# Modelagem Empírica"
   ]
  },
  {
   "cell_type": "markdown",
   "metadata": {},
   "source": [
    "targets: `consumoEspecificoTG2_2`, `consumoEspecificoTG2_1`, `consumoEspecificoTG1_2`, `consumoEspecificoTG1_1`\n",
    "\n",
    "\n",
    "## Objective\n",
    "\n",
    "- Develop an empirical model of the industrial process using AI.\n",
    "- Achieve millisecond response times for the model.\n",
    "- Ensure a maximum error of 0.2% compared to the digital twin."
   ]
  },
  {
   "cell_type": "markdown",
   "metadata": {},
   "source": [
    "### Ideas\n",
    "\n",
    "- If the simulations are many in sequence, a time series model can be used"
   ]
  },
  {
   "cell_type": "code",
   "execution_count": 1,
   "metadata": {},
   "outputs": [],
   "source": [
    "import pandas as pd\n",
    "import numpy as np\n",
    "\n",
    "# Plotting\n",
    "import matplotlib.pyplot as plt\n",
    "import seaborn as sns"
   ]
  },
  {
   "cell_type": "code",
   "execution_count": 2,
   "metadata": {},
   "outputs": [
    {
     "data": {
      "text/html": [
       "<div>\n",
       "<style scoped>\n",
       "    .dataframe tbody tr th:only-of-type {\n",
       "        vertical-align: middle;\n",
       "    }\n",
       "\n",
       "    .dataframe tbody tr th {\n",
       "        vertical-align: top;\n",
       "    }\n",
       "\n",
       "    .dataframe thead th {\n",
       "        text-align: right;\n",
       "    }\n",
       "</style>\n",
       "<table border=\"1\" class=\"dataframe\">\n",
       "  <thead>\n",
       "    <tr style=\"text-align: right;\">\n",
       "      <th></th>\n",
       "      <th>step</th>\n",
       "      <th>vazaoVapor</th>\n",
       "      <th>pressaoVapor</th>\n",
       "      <th>temperaturaVapor</th>\n",
       "      <th>cargaVaporTG1</th>\n",
       "      <th>cargaVaporTG2</th>\n",
       "      <th>habilitaTG1</th>\n",
       "      <th>habilitaTG2</th>\n",
       "      <th>potenciaGeradaTG1_2</th>\n",
       "      <th>potenciaGeradaTG2_2</th>\n",
       "      <th>potenciaGeradaTG2_1</th>\n",
       "      <th>potenciaGeradaTG1_1</th>\n",
       "      <th>vazaoVaporEscape</th>\n",
       "      <th>temperaturaVaporEscape</th>\n",
       "      <th>pressaoVaporEscape</th>\n",
       "      <th>consumoEspecificoTG2_2</th>\n",
       "      <th>consumoEspecificoTG2_1</th>\n",
       "      <th>consumoEspecificoTG1_2</th>\n",
       "      <th>consumoEspecificoTG1_1</th>\n",
       "      <th>status</th>\n",
       "    </tr>\n",
       "  </thead>\n",
       "  <tbody>\n",
       "    <tr>\n",
       "      <th>0</th>\n",
       "      <td>0</td>\n",
       "      <td>273.0</td>\n",
       "      <td>57.0</td>\n",
       "      <td>718.0</td>\n",
       "      <td>107.0</td>\n",
       "      <td>53.000</td>\n",
       "      <td>0</td>\n",
       "      <td>0</td>\n",
       "      <td>0.000000</td>\n",
       "      <td>0.000000</td>\n",
       "      <td>0.000000</td>\n",
       "      <td>0.000000</td>\n",
       "      <td>298.992329</td>\n",
       "      <td>403.15</td>\n",
       "      <td>2.3</td>\n",
       "      <td>0.000000</td>\n",
       "      <td>0.000000</td>\n",
       "      <td>0.000000</td>\n",
       "      <td>0.000000</td>\n",
       "      <td>OK</td>\n",
       "    </tr>\n",
       "    <tr>\n",
       "      <th>1</th>\n",
       "      <td>1</td>\n",
       "      <td>273.0</td>\n",
       "      <td>57.0</td>\n",
       "      <td>718.0</td>\n",
       "      <td>107.0</td>\n",
       "      <td>53.000</td>\n",
       "      <td>0</td>\n",
       "      <td>1</td>\n",
       "      <td>0.000000</td>\n",
       "      <td>2.743378</td>\n",
       "      <td>7.277625</td>\n",
       "      <td>0.000000</td>\n",
       "      <td>294.620543</td>\n",
       "      <td>403.15</td>\n",
       "      <td>2.3</td>\n",
       "      <td>12.028968</td>\n",
       "      <td>7.282596</td>\n",
       "      <td>0.000000</td>\n",
       "      <td>0.000000</td>\n",
       "      <td>OK</td>\n",
       "    </tr>\n",
       "    <tr>\n",
       "      <th>2</th>\n",
       "      <td>2</td>\n",
       "      <td>273.0</td>\n",
       "      <td>57.0</td>\n",
       "      <td>718.0</td>\n",
       "      <td>107.0</td>\n",
       "      <td>53.000</td>\n",
       "      <td>1</td>\n",
       "      <td>0</td>\n",
       "      <td>13.876143</td>\n",
       "      <td>0.000000</td>\n",
       "      <td>0.000000</td>\n",
       "      <td>3.107132</td>\n",
       "      <td>254.569586</td>\n",
       "      <td>403.15</td>\n",
       "      <td>2.3</td>\n",
       "      <td>0.000000</td>\n",
       "      <td>0.000000</td>\n",
       "      <td>7.711077</td>\n",
       "      <td>34.436903</td>\n",
       "      <td>OK</td>\n",
       "    </tr>\n",
       "    <tr>\n",
       "      <th>3</th>\n",
       "      <td>3</td>\n",
       "      <td>273.0</td>\n",
       "      <td>57.0</td>\n",
       "      <td>718.0</td>\n",
       "      <td>107.0</td>\n",
       "      <td>53.000</td>\n",
       "      <td>1</td>\n",
       "      <td>1</td>\n",
       "      <td>13.876143</td>\n",
       "      <td>2.743378</td>\n",
       "      <td>7.277625</td>\n",
       "      <td>3.107132</td>\n",
       "      <td>254.569586</td>\n",
       "      <td>403.15</td>\n",
       "      <td>2.3</td>\n",
       "      <td>12.028968</td>\n",
       "      <td>7.282596</td>\n",
       "      <td>7.711077</td>\n",
       "      <td>34.436903</td>\n",
       "      <td>OK</td>\n",
       "    </tr>\n",
       "    <tr>\n",
       "      <th>4</th>\n",
       "      <td>4</td>\n",
       "      <td>273.0</td>\n",
       "      <td>57.0</td>\n",
       "      <td>718.0</td>\n",
       "      <td>107.0</td>\n",
       "      <td>61.375</td>\n",
       "      <td>0</td>\n",
       "      <td>0</td>\n",
       "      <td>0.000000</td>\n",
       "      <td>0.000000</td>\n",
       "      <td>0.000000</td>\n",
       "      <td>0.000000</td>\n",
       "      <td>288.558739</td>\n",
       "      <td>403.15</td>\n",
       "      <td>2.3</td>\n",
       "      <td>0.000000</td>\n",
       "      <td>0.000000</td>\n",
       "      <td>0.000000</td>\n",
       "      <td>0.000000</td>\n",
       "      <td>OK</td>\n",
       "    </tr>\n",
       "  </tbody>\n",
       "</table>\n",
       "</div>"
      ],
      "text/plain": [
       "   step  vazaoVapor  pressaoVapor  temperaturaVapor  cargaVaporTG1  \\\n",
       "0     0       273.0          57.0             718.0          107.0   \n",
       "1     1       273.0          57.0             718.0          107.0   \n",
       "2     2       273.0          57.0             718.0          107.0   \n",
       "3     3       273.0          57.0             718.0          107.0   \n",
       "4     4       273.0          57.0             718.0          107.0   \n",
       "\n",
       "   cargaVaporTG2  habilitaTG1  habilitaTG2  potenciaGeradaTG1_2  \\\n",
       "0         53.000            0            0             0.000000   \n",
       "1         53.000            0            1             0.000000   \n",
       "2         53.000            1            0            13.876143   \n",
       "3         53.000            1            1            13.876143   \n",
       "4         61.375            0            0             0.000000   \n",
       "\n",
       "   potenciaGeradaTG2_2  potenciaGeradaTG2_1  potenciaGeradaTG1_1  \\\n",
       "0             0.000000             0.000000             0.000000   \n",
       "1             2.743378             7.277625             0.000000   \n",
       "2             0.000000             0.000000             3.107132   \n",
       "3             2.743378             7.277625             3.107132   \n",
       "4             0.000000             0.000000             0.000000   \n",
       "\n",
       "   vazaoVaporEscape  temperaturaVaporEscape  pressaoVaporEscape  \\\n",
       "0        298.992329                  403.15                 2.3   \n",
       "1        294.620543                  403.15                 2.3   \n",
       "2        254.569586                  403.15                 2.3   \n",
       "3        254.569586                  403.15                 2.3   \n",
       "4        288.558739                  403.15                 2.3   \n",
       "\n",
       "   consumoEspecificoTG2_2  consumoEspecificoTG2_1  consumoEspecificoTG1_2  \\\n",
       "0                0.000000                0.000000                0.000000   \n",
       "1               12.028968                7.282596                0.000000   \n",
       "2                0.000000                0.000000                7.711077   \n",
       "3               12.028968                7.282596                7.711077   \n",
       "4                0.000000                0.000000                0.000000   \n",
       "\n",
       "   consumoEspecificoTG1_1 status  \n",
       "0                0.000000     OK  \n",
       "1                0.000000     OK  \n",
       "2               34.436903     OK  \n",
       "3               34.436903     OK  \n",
       "4                0.000000     OK  "
      ]
     },
     "execution_count": 2,
     "metadata": {},
     "output_type": "execute_result"
    }
   ],
   "source": [
    "df = pd.read_json('./data/raw/SimulationResult.json')\n",
    "df.head()"
   ]
  },
  {
   "cell_type": "code",
   "execution_count": 3,
   "metadata": {},
   "outputs": [],
   "source": [
    "features = ['vazaoVapor', 'pressaoVapor', 'temperaturaVapor',\n",
    "            'cargaVaporTG1', 'cargaVaporTG2', 'habilitaTG1', 'habilitaTG2']"
   ]
  },
  {
   "cell_type": "code",
   "execution_count": 4,
   "metadata": {},
   "outputs": [],
   "source": [
    "targets = ['consumoEspecificoTG1_1', 'consumoEspecificoTG1_2',\n",
    "           'consumoEspecificoTG2_1', 'consumoEspecificoTG2_2',\n",
    "           'potenciaGeradaTG1_1', 'potenciaGeradaTG1_2',\n",
    "           'potenciaGeradaTG2_1', 'potenciaGeradaTG2_2',\n",
    "           'vazaoVaporEscape']"
   ]
  },
  {
   "cell_type": "code",
   "execution_count": 5,
   "metadata": {},
   "outputs": [
    {
     "name": "stdout",
     "output_type": "stream",
     "text": [
      "<class 'pandas.core.frame.DataFrame'>\n",
      "RangeIndex: 72900 entries, 0 to 72899\n",
      "Data columns (total 20 columns):\n",
      " #   Column                  Non-Null Count  Dtype  \n",
      "---  ------                  --------------  -----  \n",
      " 0   step                    72900 non-null  int64  \n",
      " 1   vazaoVapor              72900 non-null  float64\n",
      " 2   pressaoVapor            72900 non-null  float64\n",
      " 3   temperaturaVapor        72900 non-null  float64\n",
      " 4   cargaVaporTG1           72900 non-null  float64\n",
      " 5   cargaVaporTG2           72900 non-null  float64\n",
      " 6   habilitaTG1             72900 non-null  int64  \n",
      " 7   habilitaTG2             72900 non-null  int64  \n",
      " 8   potenciaGeradaTG1_2     72871 non-null  float64\n",
      " 9   potenciaGeradaTG2_2     72871 non-null  float64\n",
      " 10  potenciaGeradaTG2_1     72871 non-null  float64\n",
      " 11  potenciaGeradaTG1_1     72871 non-null  float64\n",
      " 12  vazaoVaporEscape        72871 non-null  float64\n",
      " 13  temperaturaVaporEscape  72871 non-null  float64\n",
      " 14  pressaoVaporEscape      72871 non-null  float64\n",
      " 15  consumoEspecificoTG2_2  72900 non-null  float64\n",
      " 16  consumoEspecificoTG2_1  72900 non-null  float64\n",
      " 17  consumoEspecificoTG1_2  72900 non-null  float64\n",
      " 18  consumoEspecificoTG1_1  72900 non-null  float64\n",
      " 19  status                  72900 non-null  object \n",
      "dtypes: float64(16), int64(3), object(1)\n",
      "memory usage: 11.1+ MB\n"
     ]
    }
   ],
   "source": [
    "df.info()"
   ]
  },
  {
   "cell_type": "code",
   "execution_count": 6,
   "metadata": {},
   "outputs": [
    {
     "data": {
      "text/plain": [
       "status\n",
       "OK                    72871\n",
       "Falha na simulação       29\n",
       "Name: count, dtype: int64"
      ]
     },
     "execution_count": 6,
     "metadata": {},
     "output_type": "execute_result"
    }
   ],
   "source": [
    "df['status'].value_counts()"
   ]
  },
  {
   "cell_type": "code",
   "execution_count": 7,
   "metadata": {},
   "outputs": [
    {
     "data": {
      "text/html": [
       "<div>\n",
       "<style scoped>\n",
       "    .dataframe tbody tr th:only-of-type {\n",
       "        vertical-align: middle;\n",
       "    }\n",
       "\n",
       "    .dataframe tbody tr th {\n",
       "        vertical-align: top;\n",
       "    }\n",
       "\n",
       "    .dataframe thead th {\n",
       "        text-align: right;\n",
       "    }\n",
       "</style>\n",
       "<table border=\"1\" class=\"dataframe\">\n",
       "  <thead>\n",
       "    <tr style=\"text-align: right;\">\n",
       "      <th></th>\n",
       "      <th>step</th>\n",
       "      <th>vazaoVapor</th>\n",
       "      <th>pressaoVapor</th>\n",
       "      <th>temperaturaVapor</th>\n",
       "      <th>cargaVaporTG1</th>\n",
       "      <th>cargaVaporTG2</th>\n",
       "      <th>habilitaTG1</th>\n",
       "      <th>habilitaTG2</th>\n",
       "      <th>potenciaGeradaTG1_2</th>\n",
       "      <th>potenciaGeradaTG2_2</th>\n",
       "      <th>potenciaGeradaTG2_1</th>\n",
       "      <th>potenciaGeradaTG1_1</th>\n",
       "      <th>vazaoVaporEscape</th>\n",
       "      <th>temperaturaVaporEscape</th>\n",
       "      <th>pressaoVaporEscape</th>\n",
       "      <th>consumoEspecificoTG2_2</th>\n",
       "      <th>consumoEspecificoTG2_1</th>\n",
       "      <th>consumoEspecificoTG1_2</th>\n",
       "      <th>consumoEspecificoTG1_1</th>\n",
       "      <th>status</th>\n",
       "    </tr>\n",
       "  </thead>\n",
       "  <tbody>\n",
       "    <tr>\n",
       "      <th>752</th>\n",
       "      <td>752</td>\n",
       "      <td>273.000</td>\n",
       "      <td>57.0</td>\n",
       "      <td>797.5</td>\n",
       "      <td>148.0</td>\n",
       "      <td>120.000</td>\n",
       "      <td>0</td>\n",
       "      <td>0</td>\n",
       "      <td>NaN</td>\n",
       "      <td>NaN</td>\n",
       "      <td>NaN</td>\n",
       "      <td>NaN</td>\n",
       "      <td>NaN</td>\n",
       "      <td>NaN</td>\n",
       "      <td>NaN</td>\n",
       "      <td>0.0</td>\n",
       "      <td>0.0</td>\n",
       "      <td>0.0</td>\n",
       "      <td>0.0</td>\n",
       "      <td>Falha na simulação</td>\n",
       "    </tr>\n",
       "    <tr>\n",
       "      <th>3266</th>\n",
       "      <td>3266</td>\n",
       "      <td>273.000</td>\n",
       "      <td>60.0</td>\n",
       "      <td>718.0</td>\n",
       "      <td>107.0</td>\n",
       "      <td>103.250</td>\n",
       "      <td>1</td>\n",
       "      <td>0</td>\n",
       "      <td>NaN</td>\n",
       "      <td>NaN</td>\n",
       "      <td>NaN</td>\n",
       "      <td>NaN</td>\n",
       "      <td>NaN</td>\n",
       "      <td>NaN</td>\n",
       "      <td>NaN</td>\n",
       "      <td>0.0</td>\n",
       "      <td>0.0</td>\n",
       "      <td>0.0</td>\n",
       "      <td>0.0</td>\n",
       "      <td>Falha na simulação</td>\n",
       "    </tr>\n",
       "    <tr>\n",
       "      <th>5142</th>\n",
       "      <td>5142</td>\n",
       "      <td>273.000</td>\n",
       "      <td>61.5</td>\n",
       "      <td>718.0</td>\n",
       "      <td>250.5</td>\n",
       "      <td>111.625</td>\n",
       "      <td>1</td>\n",
       "      <td>0</td>\n",
       "      <td>NaN</td>\n",
       "      <td>NaN</td>\n",
       "      <td>NaN</td>\n",
       "      <td>NaN</td>\n",
       "      <td>NaN</td>\n",
       "      <td>NaN</td>\n",
       "      <td>NaN</td>\n",
       "      <td>0.0</td>\n",
       "      <td>0.0</td>\n",
       "      <td>0.0</td>\n",
       "      <td>0.0</td>\n",
       "      <td>Falha na simulação</td>\n",
       "    </tr>\n",
       "    <tr>\n",
       "      <th>15231</th>\n",
       "      <td>15231</td>\n",
       "      <td>290.875</td>\n",
       "      <td>63.0</td>\n",
       "      <td>797.5</td>\n",
       "      <td>107.0</td>\n",
       "      <td>53.000</td>\n",
       "      <td>1</td>\n",
       "      <td>1</td>\n",
       "      <td>NaN</td>\n",
       "      <td>NaN</td>\n",
       "      <td>NaN</td>\n",
       "      <td>NaN</td>\n",
       "      <td>NaN</td>\n",
       "      <td>NaN</td>\n",
       "      <td>NaN</td>\n",
       "      <td>0.0</td>\n",
       "      <td>0.0</td>\n",
       "      <td>0.0</td>\n",
       "      <td>0.0</td>\n",
       "      <td>Falha na simulação</td>\n",
       "    </tr>\n",
       "    <tr>\n",
       "      <th>17092</th>\n",
       "      <td>17092</td>\n",
       "      <td>308.750</td>\n",
       "      <td>57.0</td>\n",
       "      <td>797.5</td>\n",
       "      <td>230.0</td>\n",
       "      <td>111.625</td>\n",
       "      <td>0</td>\n",
       "      <td>0</td>\n",
       "      <td>NaN</td>\n",
       "      <td>NaN</td>\n",
       "      <td>NaN</td>\n",
       "      <td>NaN</td>\n",
       "      <td>NaN</td>\n",
       "      <td>NaN</td>\n",
       "      <td>NaN</td>\n",
       "      <td>0.0</td>\n",
       "      <td>0.0</td>\n",
       "      <td>0.0</td>\n",
       "      <td>0.0</td>\n",
       "      <td>Falha na simulação</td>\n",
       "    </tr>\n",
       "  </tbody>\n",
       "</table>\n",
       "</div>"
      ],
      "text/plain": [
       "        step  vazaoVapor  pressaoVapor  temperaturaVapor  cargaVaporTG1  \\\n",
       "752      752     273.000          57.0             797.5          148.0   \n",
       "3266    3266     273.000          60.0             718.0          107.0   \n",
       "5142    5142     273.000          61.5             718.0          250.5   \n",
       "15231  15231     290.875          63.0             797.5          107.0   \n",
       "17092  17092     308.750          57.0             797.5          230.0   \n",
       "\n",
       "       cargaVaporTG2  habilitaTG1  habilitaTG2  potenciaGeradaTG1_2  \\\n",
       "752          120.000            0            0                  NaN   \n",
       "3266         103.250            1            0                  NaN   \n",
       "5142         111.625            1            0                  NaN   \n",
       "15231         53.000            1            1                  NaN   \n",
       "17092        111.625            0            0                  NaN   \n",
       "\n",
       "       potenciaGeradaTG2_2  potenciaGeradaTG2_1  potenciaGeradaTG1_1  \\\n",
       "752                    NaN                  NaN                  NaN   \n",
       "3266                   NaN                  NaN                  NaN   \n",
       "5142                   NaN                  NaN                  NaN   \n",
       "15231                  NaN                  NaN                  NaN   \n",
       "17092                  NaN                  NaN                  NaN   \n",
       "\n",
       "       vazaoVaporEscape  temperaturaVaporEscape  pressaoVaporEscape  \\\n",
       "752                 NaN                     NaN                 NaN   \n",
       "3266                NaN                     NaN                 NaN   \n",
       "5142                NaN                     NaN                 NaN   \n",
       "15231               NaN                     NaN                 NaN   \n",
       "17092               NaN                     NaN                 NaN   \n",
       "\n",
       "       consumoEspecificoTG2_2  consumoEspecificoTG2_1  consumoEspecificoTG1_2  \\\n",
       "752                       0.0                     0.0                     0.0   \n",
       "3266                      0.0                     0.0                     0.0   \n",
       "5142                      0.0                     0.0                     0.0   \n",
       "15231                     0.0                     0.0                     0.0   \n",
       "17092                     0.0                     0.0                     0.0   \n",
       "\n",
       "       consumoEspecificoTG1_1              status  \n",
       "752                       0.0  Falha na simulação  \n",
       "3266                      0.0  Falha na simulação  \n",
       "5142                      0.0  Falha na simulação  \n",
       "15231                     0.0  Falha na simulação  \n",
       "17092                     0.0  Falha na simulação  "
      ]
     },
     "execution_count": 7,
     "metadata": {},
     "output_type": "execute_result"
    }
   ],
   "source": [
    "df.query('status == \"Falha na simulação\"').head()"
   ]
  },
  {
   "cell_type": "code",
   "execution_count": 8,
   "metadata": {},
   "outputs": [
    {
     "data": {
      "text/plain": [
       "True"
      ]
     },
     "execution_count": 8,
     "metadata": {},
     "output_type": "execute_result"
    }
   ],
   "source": [
    "df.step.is_unique"
   ]
  },
  {
   "cell_type": "code",
   "execution_count": 9,
   "metadata": {},
   "outputs": [
    {
     "data": {
      "text/plain": [
       "(72900, 20)"
      ]
     },
     "execution_count": 9,
     "metadata": {},
     "output_type": "execute_result"
    }
   ],
   "source": [
    "df.shape"
   ]
  },
  {
   "cell_type": "code",
   "execution_count": 10,
   "metadata": {},
   "outputs": [
    {
     "data": {
      "text/plain": [
       "226"
      ]
     },
     "execution_count": 10,
     "metadata": {},
     "output_type": "execute_result"
    }
   ],
   "source": [
    "df['consumoEspecificoTG1_1'].nunique()"
   ]
  },
  {
   "cell_type": "code",
   "execution_count": 11,
   "metadata": {},
   "outputs": [
    {
     "data": {
      "text/plain": [
       "vazaoVapor\n",
       "273.000    8100\n",
       "290.875    8100\n",
       "308.750    8100\n",
       "326.625    8100\n",
       "344.500    8100\n",
       "362.375    8100\n",
       "380.250    8100\n",
       "398.125    8100\n",
       "416.000    8100\n",
       "Name: count, dtype: int64"
      ]
     },
     "execution_count": 11,
     "metadata": {},
     "output_type": "execute_result"
    }
   ],
   "source": [
    "df['vazaoVapor'].value_counts()"
   ]
  },
  {
   "cell_type": "code",
   "execution_count": 12,
   "metadata": {},
   "outputs": [
    {
     "data": {
      "text/plain": [
       "temperaturaVapor\n",
       "718.00    14580\n",
       "757.75    14580\n",
       "797.50    14580\n",
       "837.25    14580\n",
       "877.00    14580\n",
       "Name: count, dtype: int64"
      ]
     },
     "execution_count": 12,
     "metadata": {},
     "output_type": "execute_result"
    }
   ],
   "source": [
    "df['temperaturaVapor'].value_counts()"
   ]
  },
  {
   "cell_type": "code",
   "execution_count": 13,
   "metadata": {},
   "outputs": [
    {
     "data": {
      "text/plain": [
       "cargaVaporTG1\n",
       "107.0    8100\n",
       "127.5    8100\n",
       "148.0    8100\n",
       "168.5    8100\n",
       "189.0    8100\n",
       "209.5    8100\n",
       "230.0    8100\n",
       "250.5    8100\n",
       "271.0    8100\n",
       "Name: count, dtype: int64"
      ]
     },
     "execution_count": 13,
     "metadata": {},
     "output_type": "execute_result"
    }
   ],
   "source": [
    "df['cargaVaporTG1'].value_counts()"
   ]
  },
  {
   "cell_type": "code",
   "execution_count": 14,
   "metadata": {},
   "outputs": [],
   "source": [
    "convert_dict = {\n",
    "    'step': np.int32,\n",
    "    'habilitaTG1': np.int32,\n",
    "    'habilitaTG2': np.int32,\n",
    "    'status': str\n",
    "}"
   ]
  },
  {
   "cell_type": "code",
   "execution_count": 15,
   "metadata": {},
   "outputs": [
    {
     "data": {
      "text/html": [
       "<div>\n",
       "<style scoped>\n",
       "    .dataframe tbody tr th:only-of-type {\n",
       "        vertical-align: middle;\n",
       "    }\n",
       "\n",
       "    .dataframe tbody tr th {\n",
       "        vertical-align: top;\n",
       "    }\n",
       "\n",
       "    .dataframe thead th {\n",
       "        text-align: right;\n",
       "    }\n",
       "</style>\n",
       "<table border=\"1\" class=\"dataframe\">\n",
       "  <thead>\n",
       "    <tr style=\"text-align: right;\">\n",
       "      <th></th>\n",
       "      <th>vazaoVapor</th>\n",
       "      <th>pressaoVapor</th>\n",
       "      <th>temperaturaVapor</th>\n",
       "      <th>cargaVaporTG1</th>\n",
       "      <th>cargaVaporTG2</th>\n",
       "      <th>habilitaTG1</th>\n",
       "      <th>habilitaTG2</th>\n",
       "      <th>potenciaGeradaTG1_2</th>\n",
       "      <th>potenciaGeradaTG2_2</th>\n",
       "      <th>potenciaGeradaTG2_1</th>\n",
       "      <th>potenciaGeradaTG1_1</th>\n",
       "      <th>vazaoVaporEscape</th>\n",
       "      <th>temperaturaVaporEscape</th>\n",
       "      <th>pressaoVaporEscape</th>\n",
       "      <th>consumoEspecificoTG2_2</th>\n",
       "      <th>consumoEspecificoTG2_1</th>\n",
       "      <th>consumoEspecificoTG1_2</th>\n",
       "      <th>consumoEspecificoTG1_1</th>\n",
       "    </tr>\n",
       "  </thead>\n",
       "  <tbody>\n",
       "    <tr>\n",
       "      <th>0</th>\n",
       "      <td>273.0</td>\n",
       "      <td>57.0</td>\n",
       "      <td>718.0</td>\n",
       "      <td>107.0</td>\n",
       "      <td>53.000</td>\n",
       "      <td>0</td>\n",
       "      <td>0</td>\n",
       "      <td>0.000000</td>\n",
       "      <td>0.000000</td>\n",
       "      <td>0.000000</td>\n",
       "      <td>0.000000</td>\n",
       "      <td>298.992329</td>\n",
       "      <td>403.15</td>\n",
       "      <td>2.3</td>\n",
       "      <td>0.000000</td>\n",
       "      <td>0.000000</td>\n",
       "      <td>0.000000</td>\n",
       "      <td>0.000000</td>\n",
       "    </tr>\n",
       "    <tr>\n",
       "      <th>1</th>\n",
       "      <td>273.0</td>\n",
       "      <td>57.0</td>\n",
       "      <td>718.0</td>\n",
       "      <td>107.0</td>\n",
       "      <td>53.000</td>\n",
       "      <td>0</td>\n",
       "      <td>1</td>\n",
       "      <td>0.000000</td>\n",
       "      <td>2.743378</td>\n",
       "      <td>7.277625</td>\n",
       "      <td>0.000000</td>\n",
       "      <td>294.620543</td>\n",
       "      <td>403.15</td>\n",
       "      <td>2.3</td>\n",
       "      <td>12.028968</td>\n",
       "      <td>7.282596</td>\n",
       "      <td>0.000000</td>\n",
       "      <td>0.000000</td>\n",
       "    </tr>\n",
       "    <tr>\n",
       "      <th>2</th>\n",
       "      <td>273.0</td>\n",
       "      <td>57.0</td>\n",
       "      <td>718.0</td>\n",
       "      <td>107.0</td>\n",
       "      <td>53.000</td>\n",
       "      <td>1</td>\n",
       "      <td>0</td>\n",
       "      <td>13.876143</td>\n",
       "      <td>0.000000</td>\n",
       "      <td>0.000000</td>\n",
       "      <td>3.107132</td>\n",
       "      <td>254.569586</td>\n",
       "      <td>403.15</td>\n",
       "      <td>2.3</td>\n",
       "      <td>0.000000</td>\n",
       "      <td>0.000000</td>\n",
       "      <td>7.711077</td>\n",
       "      <td>34.436903</td>\n",
       "    </tr>\n",
       "    <tr>\n",
       "      <th>3</th>\n",
       "      <td>273.0</td>\n",
       "      <td>57.0</td>\n",
       "      <td>718.0</td>\n",
       "      <td>107.0</td>\n",
       "      <td>53.000</td>\n",
       "      <td>1</td>\n",
       "      <td>1</td>\n",
       "      <td>13.876143</td>\n",
       "      <td>2.743378</td>\n",
       "      <td>7.277625</td>\n",
       "      <td>3.107132</td>\n",
       "      <td>254.569586</td>\n",
       "      <td>403.15</td>\n",
       "      <td>2.3</td>\n",
       "      <td>12.028968</td>\n",
       "      <td>7.282596</td>\n",
       "      <td>7.711077</td>\n",
       "      <td>34.436903</td>\n",
       "    </tr>\n",
       "    <tr>\n",
       "      <th>4</th>\n",
       "      <td>273.0</td>\n",
       "      <td>57.0</td>\n",
       "      <td>718.0</td>\n",
       "      <td>107.0</td>\n",
       "      <td>61.375</td>\n",
       "      <td>0</td>\n",
       "      <td>0</td>\n",
       "      <td>0.000000</td>\n",
       "      <td>0.000000</td>\n",
       "      <td>0.000000</td>\n",
       "      <td>0.000000</td>\n",
       "      <td>288.558739</td>\n",
       "      <td>403.15</td>\n",
       "      <td>2.3</td>\n",
       "      <td>0.000000</td>\n",
       "      <td>0.000000</td>\n",
       "      <td>0.000000</td>\n",
       "      <td>0.000000</td>\n",
       "    </tr>\n",
       "  </tbody>\n",
       "</table>\n",
       "</div>"
      ],
      "text/plain": [
       "   vazaoVapor  pressaoVapor  temperaturaVapor  cargaVaporTG1  cargaVaporTG2  \\\n",
       "0       273.0          57.0             718.0          107.0         53.000   \n",
       "1       273.0          57.0             718.0          107.0         53.000   \n",
       "2       273.0          57.0             718.0          107.0         53.000   \n",
       "3       273.0          57.0             718.0          107.0         53.000   \n",
       "4       273.0          57.0             718.0          107.0         61.375   \n",
       "\n",
       "   habilitaTG1  habilitaTG2  potenciaGeradaTG1_2  potenciaGeradaTG2_2  \\\n",
       "0            0            0             0.000000             0.000000   \n",
       "1            0            1             0.000000             2.743378   \n",
       "2            1            0            13.876143             0.000000   \n",
       "3            1            1            13.876143             2.743378   \n",
       "4            0            0             0.000000             0.000000   \n",
       "\n",
       "   potenciaGeradaTG2_1  potenciaGeradaTG1_1  vazaoVaporEscape  \\\n",
       "0             0.000000             0.000000        298.992329   \n",
       "1             7.277625             0.000000        294.620543   \n",
       "2             0.000000             3.107132        254.569586   \n",
       "3             7.277625             3.107132        254.569586   \n",
       "4             0.000000             0.000000        288.558739   \n",
       "\n",
       "   temperaturaVaporEscape  pressaoVaporEscape  consumoEspecificoTG2_2  \\\n",
       "0                  403.15                 2.3                0.000000   \n",
       "1                  403.15                 2.3               12.028968   \n",
       "2                  403.15                 2.3                0.000000   \n",
       "3                  403.15                 2.3               12.028968   \n",
       "4                  403.15                 2.3                0.000000   \n",
       "\n",
       "   consumoEspecificoTG2_1  consumoEspecificoTG1_2  consumoEspecificoTG1_1  \n",
       "0                0.000000                0.000000                0.000000  \n",
       "1                7.282596                0.000000                0.000000  \n",
       "2                0.000000                7.711077               34.436903  \n",
       "3                7.282596                7.711077               34.436903  \n",
       "4                0.000000                0.000000                0.000000  "
      ]
     },
     "execution_count": 15,
     "metadata": {},
     "output_type": "execute_result"
    }
   ],
   "source": [
    "# Filter and change data types\n",
    "df_clean = df.query('status == \"OK\"').copy().astype(convert_dict).drop(columns=['status', 'step'])\n",
    "df_clean.head()"
   ]
  },
  {
   "cell_type": "markdown",
   "metadata": {},
   "source": [
    "## Splitting features and targets"
   ]
  },
  {
   "cell_type": "code",
   "execution_count": 16,
   "metadata": {},
   "outputs": [],
   "source": [
    "from sklearn.model_selection import train_test_split"
   ]
  },
  {
   "cell_type": "code",
   "execution_count": 17,
   "metadata": {},
   "outputs": [
    {
     "name": "stdout",
     "output_type": "stream",
     "text": [
      "Número de targets: 9\n"
     ]
    }
   ],
   "source": [
    "print('Número de targets:', len(targets))"
   ]
  },
  {
   "cell_type": "code",
   "execution_count": 18,
   "metadata": {},
   "outputs": [],
   "source": [
    "train_set, test_set = df_clean[features], df_clean[targets]"
   ]
  },
  {
   "cell_type": "code",
   "execution_count": 19,
   "metadata": {},
   "outputs": [],
   "source": [
    "X_train, X_test_full, y_train, y_test_full = train_test_split(train_set, test_set, test_size=0.2, random_state=42)"
   ]
  },
  {
   "cell_type": "code",
   "execution_count": 20,
   "metadata": {},
   "outputs": [],
   "source": [
    "# Criando dataset de validação\n",
    "X_test, X_val, y_test, y_val = train_test_split(X_test_full, y_test_full, test_size=0.5, random_state=42)"
   ]
  },
  {
   "cell_type": "code",
   "execution_count": 21,
   "metadata": {},
   "outputs": [
    {
     "data": {
      "text/plain": [
       "0.7999890216958735"
      ]
     },
     "execution_count": 21,
     "metadata": {},
     "output_type": "execute_result"
    }
   ],
   "source": [
    "X_train.shape[0] / train_set.shape[0]"
   ]
  },
  {
   "cell_type": "code",
   "execution_count": 22,
   "metadata": {},
   "outputs": [
    {
     "data": {
      "text/plain": [
       "0.09999862771198419"
      ]
     },
     "execution_count": 22,
     "metadata": {},
     "output_type": "execute_result"
    }
   ],
   "source": [
    "X_test.shape[0] / train_set.shape[0]"
   ]
  },
  {
   "cell_type": "code",
   "execution_count": 23,
   "metadata": {},
   "outputs": [
    {
     "data": {
      "text/plain": [
       "0.10001235059214228"
      ]
     },
     "execution_count": 23,
     "metadata": {},
     "output_type": "execute_result"
    }
   ],
   "source": [
    "X_val.shape[0] / train_set.shape[0]"
   ]
  },
  {
   "cell_type": "code",
   "execution_count": 24,
   "metadata": {},
   "outputs": [],
   "source": [
    "# Save datasets\n",
    "X_train.to_csv('./data/processed/X_train.csv', index=False)\n",
    "X_test.to_csv('./data/processed/X_test.csv', index=False)\n",
    "X_val.to_csv('./data/processed/X_val.csv', index=False)"
   ]
  },
  {
   "cell_type": "markdown",
   "metadata": {},
   "source": [
    "## Creating neural network"
   ]
  },
  {
   "cell_type": "code",
   "execution_count": 25,
   "metadata": {},
   "outputs": [],
   "source": [
    "from tensorflow.keras.models import Sequential\n",
    "from tensorflow.keras.layers import Dense, Input\n",
    "from tensorflow.keras.callbacks import EarlyStopping, ModelCheckpoint\n",
    "from tensorflow.keras.utils import set_random_seed\n",
    "from tensorflow.keras.models import load_model"
   ]
  },
  {
   "cell_type": "code",
   "execution_count": 28,
   "metadata": {},
   "outputs": [
    {
     "name": "stdout",
     "output_type": "stream",
     "text": [
      "Pre-trained model loaded successfully\n"
     ]
    }
   ],
   "source": [
    "new_train = False\n",
    "\n",
    "try:\n",
    "    if new_train:\n",
    "        raise Exception('Forçando novo treinamento')\n",
    "    model = load_model('./models/dense_64_32_11_mse_v2.keras')\n",
    "    print('Pre-trained model loaded successfully')\n",
    "except Exception as e:\n",
    "    print('Could not load model:', e.__repr__())\n",
    "    model = Sequential()\n",
    "\n",
    "    model.add(Input(shape=(len(features),)))\n",
    "    model.add(Dense(64, activation='relu'))\n",
    "    model.add(Dense(32, activation='relu'))\n",
    "    model.add(Dense(len(targets)))\n",
    "\n",
    "    model.compile(optimizer='adam', loss='mean_squared_error')"
   ]
  },
  {
   "cell_type": "code",
   "execution_count": 35,
   "metadata": {},
   "outputs": [
    {
     "data": {
      "text/html": [
       "<pre style=\"white-space:pre;overflow-x:auto;line-height:normal;font-family:Menlo,'DejaVu Sans Mono',consolas,'Courier New',monospace\"><span style=\"font-weight: bold\">Model: \"sequential_1\"</span>\n",
       "</pre>\n"
      ],
      "text/plain": [
       "\u001b[1mModel: \"sequential_1\"\u001b[0m\n"
      ]
     },
     "metadata": {},
     "output_type": "display_data"
    },
    {
     "data": {
      "text/html": [
       "<pre style=\"white-space:pre;overflow-x:auto;line-height:normal;font-family:Menlo,'DejaVu Sans Mono',consolas,'Courier New',monospace\">┏━━━━━━━━━━━━━━━━━━━━━━━━━━━━━━━━━┳━━━━━━━━━━━━━━━━━━━━━━━━┳━━━━━━━━━━━━━━━┓\n",
       "┃<span style=\"font-weight: bold\"> Layer (type)                    </span>┃<span style=\"font-weight: bold\"> Output Shape           </span>┃<span style=\"font-weight: bold\">       Param # </span>┃\n",
       "┡━━━━━━━━━━━━━━━━━━━━━━━━━━━━━━━━━╇━━━━━━━━━━━━━━━━━━━━━━━━╇━━━━━━━━━━━━━━━┩\n",
       "│ dense_3 (<span style=\"color: #0087ff; text-decoration-color: #0087ff\">Dense</span>)                 │ (<span style=\"color: #00d7ff; text-decoration-color: #00d7ff\">None</span>, <span style=\"color: #00af00; text-decoration-color: #00af00\">64</span>)             │           <span style=\"color: #00af00; text-decoration-color: #00af00\">512</span> │\n",
       "├─────────────────────────────────┼────────────────────────┼───────────────┤\n",
       "│ dense_4 (<span style=\"color: #0087ff; text-decoration-color: #0087ff\">Dense</span>)                 │ (<span style=\"color: #00d7ff; text-decoration-color: #00d7ff\">None</span>, <span style=\"color: #00af00; text-decoration-color: #00af00\">32</span>)             │         <span style=\"color: #00af00; text-decoration-color: #00af00\">2,080</span> │\n",
       "├─────────────────────────────────┼────────────────────────┼───────────────┤\n",
       "│ dense_5 (<span style=\"color: #0087ff; text-decoration-color: #0087ff\">Dense</span>)                 │ (<span style=\"color: #00d7ff; text-decoration-color: #00d7ff\">None</span>, <span style=\"color: #00af00; text-decoration-color: #00af00\">9</span>)              │           <span style=\"color: #00af00; text-decoration-color: #00af00\">297</span> │\n",
       "└─────────────────────────────────┴────────────────────────┴───────────────┘\n",
       "</pre>\n"
      ],
      "text/plain": [
       "┏━━━━━━━━━━━━━━━━━━━━━━━━━━━━━━━━━┳━━━━━━━━━━━━━━━━━━━━━━━━┳━━━━━━━━━━━━━━━┓\n",
       "┃\u001b[1m \u001b[0m\u001b[1mLayer (type)                   \u001b[0m\u001b[1m \u001b[0m┃\u001b[1m \u001b[0m\u001b[1mOutput Shape          \u001b[0m\u001b[1m \u001b[0m┃\u001b[1m \u001b[0m\u001b[1m      Param #\u001b[0m\u001b[1m \u001b[0m┃\n",
       "┡━━━━━━━━━━━━━━━━━━━━━━━━━━━━━━━━━╇━━━━━━━━━━━━━━━━━━━━━━━━╇━━━━━━━━━━━━━━━┩\n",
       "│ dense_3 (\u001b[38;5;33mDense\u001b[0m)                 │ (\u001b[38;5;45mNone\u001b[0m, \u001b[38;5;34m64\u001b[0m)             │           \u001b[38;5;34m512\u001b[0m │\n",
       "├─────────────────────────────────┼────────────────────────┼───────────────┤\n",
       "│ dense_4 (\u001b[38;5;33mDense\u001b[0m)                 │ (\u001b[38;5;45mNone\u001b[0m, \u001b[38;5;34m32\u001b[0m)             │         \u001b[38;5;34m2,080\u001b[0m │\n",
       "├─────────────────────────────────┼────────────────────────┼───────────────┤\n",
       "│ dense_5 (\u001b[38;5;33mDense\u001b[0m)                 │ (\u001b[38;5;45mNone\u001b[0m, \u001b[38;5;34m9\u001b[0m)              │           \u001b[38;5;34m297\u001b[0m │\n",
       "└─────────────────────────────────┴────────────────────────┴───────────────┘\n"
      ]
     },
     "metadata": {},
     "output_type": "display_data"
    },
    {
     "data": {
      "text/html": [
       "<pre style=\"white-space:pre;overflow-x:auto;line-height:normal;font-family:Menlo,'DejaVu Sans Mono',consolas,'Courier New',monospace\"><span style=\"font-weight: bold\"> Total params: </span><span style=\"color: #00af00; text-decoration-color: #00af00\">2,889</span> (11.29 KB)\n",
       "</pre>\n"
      ],
      "text/plain": [
       "\u001b[1m Total params: \u001b[0m\u001b[38;5;34m2,889\u001b[0m (11.29 KB)\n"
      ]
     },
     "metadata": {},
     "output_type": "display_data"
    },
    {
     "data": {
      "text/html": [
       "<pre style=\"white-space:pre;overflow-x:auto;line-height:normal;font-family:Menlo,'DejaVu Sans Mono',consolas,'Courier New',monospace\"><span style=\"font-weight: bold\"> Trainable params: </span><span style=\"color: #00af00; text-decoration-color: #00af00\">2,889</span> (11.29 KB)\n",
       "</pre>\n"
      ],
      "text/plain": [
       "\u001b[1m Trainable params: \u001b[0m\u001b[38;5;34m2,889\u001b[0m (11.29 KB)\n"
      ]
     },
     "metadata": {},
     "output_type": "display_data"
    },
    {
     "data": {
      "text/html": [
       "<pre style=\"white-space:pre;overflow-x:auto;line-height:normal;font-family:Menlo,'DejaVu Sans Mono',consolas,'Courier New',monospace\"><span style=\"font-weight: bold\"> Non-trainable params: </span><span style=\"color: #00af00; text-decoration-color: #00af00\">0</span> (0.00 B)\n",
       "</pre>\n"
      ],
      "text/plain": [
       "\u001b[1m Non-trainable params: \u001b[0m\u001b[38;5;34m0\u001b[0m (0.00 B)\n"
      ]
     },
     "metadata": {},
     "output_type": "display_data"
    }
   ],
   "source": [
    "model.summary()"
   ]
  },
  {
   "cell_type": "code",
   "execution_count": 45,
   "metadata": {},
   "outputs": [],
   "source": [
    "early_stopping_cb = EarlyStopping(monitor='val_loss', patience=20, restore_best_weights=True)\n",
    "model_checkpoint_cb = ModelCheckpoint('./models/dense_64_32_11_mse_v4.keras', monitor='val_loss', save_best_only=True, verbose=1)"
   ]
  },
  {
   "cell_type": "code",
   "execution_count": 46,
   "metadata": {},
   "outputs": [
    {
     "name": "stdout",
     "output_type": "stream",
     "text": [
      "Epoch 1/1000\n",
      "\u001b[1m1781/1822\u001b[0m \u001b[32m━━━━━━━━━━━━━━━━━━━\u001b[0m\u001b[37m━\u001b[0m \u001b[1m0s\u001b[0m 600us/step - loss: 4.9518\n",
      "Epoch 1: val_loss improved from inf to 3.96097, saving model to ./models/dense_64_32_11_mse_v4.keras\n",
      "\u001b[1m1822/1822\u001b[0m \u001b[32m━━━━━━━━━━━━━━━━━━━━\u001b[0m\u001b[37m\u001b[0m \u001b[1m1s\u001b[0m 712us/step - loss: 4.9552 - val_loss: 3.9610\n",
      "Epoch 2/1000\n",
      "\u001b[1m1756/1822\u001b[0m \u001b[32m━━━━━━━━━━━━━━━━━━━\u001b[0m\u001b[37m━\u001b[0m \u001b[1m0s\u001b[0m 617us/step - loss: 4.9323\n",
      "Epoch 2: val_loss did not improve from 3.96097\n",
      "\u001b[1m1822/1822\u001b[0m \u001b[32m━━━━━━━━━━━━━━━━━━━━\u001b[0m\u001b[37m\u001b[0m \u001b[1m1s\u001b[0m 693us/step - loss: 4.9379 - val_loss: 3.9793\n",
      "Epoch 3/1000\n",
      "\u001b[1m1735/1822\u001b[0m \u001b[32m━━━━━━━━━━━━━━━━━━━\u001b[0m\u001b[37m━\u001b[0m \u001b[1m0s\u001b[0m 636us/step - loss: 4.8883\n",
      "Epoch 3: val_loss improved from 3.96097 to 3.93843, saving model to ./models/dense_64_32_11_mse_v4.keras\n",
      "\u001b[1m1822/1822\u001b[0m \u001b[32m━━━━━━━━━━━━━━━━━━━━\u001b[0m\u001b[37m\u001b[0m \u001b[1m1s\u001b[0m 717us/step - loss: 4.8962 - val_loss: 3.9384\n",
      "Epoch 4/1000\n",
      "\u001b[1m1744/1822\u001b[0m \u001b[32m━━━━━━━━━━━━━━━━━━━\u001b[0m\u001b[37m━\u001b[0m \u001b[1m0s\u001b[0m 586us/step - loss: 4.8493\n",
      "Epoch 4: val_loss improved from 3.93843 to 3.88521, saving model to ./models/dense_64_32_11_mse_v4.keras\n",
      "\u001b[1m1822/1822\u001b[0m \u001b[32m━━━━━━━━━━━━━━━━━━━━\u001b[0m\u001b[37m\u001b[0m \u001b[1m1s\u001b[0m 662us/step - loss: 4.8567 - val_loss: 3.8852\n",
      "Epoch 5/1000\n",
      "\u001b[1m1767/1822\u001b[0m \u001b[32m━━━━━━━━━━━━━━━━━━━\u001b[0m\u001b[37m━\u001b[0m \u001b[1m0s\u001b[0m 604us/step - loss: 4.8203\n",
      "Epoch 5: val_loss improved from 3.88521 to 3.77571, saving model to ./models/dense_64_32_11_mse_v4.keras\n",
      "\u001b[1m1822/1822\u001b[0m \u001b[32m━━━━━━━━━━━━━━━━━━━━\u001b[0m\u001b[37m\u001b[0m \u001b[1m1s\u001b[0m 683us/step - loss: 4.8254 - val_loss: 3.7757\n",
      "Epoch 6/1000\n",
      "\u001b[1m1806/1822\u001b[0m \u001b[32m━━━━━━━━━━━━━━━━━━━\u001b[0m\u001b[37m━\u001b[0m \u001b[1m0s\u001b[0m 667us/step - loss: 4.7845\n",
      "Epoch 6: val_loss improved from 3.77571 to 3.71390, saving model to ./models/dense_64_32_11_mse_v4.keras\n",
      "\u001b[1m1822/1822\u001b[0m \u001b[32m━━━━━━━━━━━━━━━━━━━━\u001b[0m\u001b[37m\u001b[0m \u001b[1m1s\u001b[0m 742us/step - loss: 4.7861 - val_loss: 3.7139\n",
      "Epoch 7/1000\n",
      "\u001b[1m1782/1822\u001b[0m \u001b[32m━━━━━━━━━━━━━━━━━━━\u001b[0m\u001b[37m━\u001b[0m \u001b[1m0s\u001b[0m 621us/step - loss: 4.7554\n",
      "Epoch 7: val_loss improved from 3.71390 to 3.65486, saving model to ./models/dense_64_32_11_mse_v4.keras\n",
      "\u001b[1m1822/1822\u001b[0m \u001b[32m━━━━━━━━━━━━━━━━━━━━\u001b[0m\u001b[37m\u001b[0m \u001b[1m1s\u001b[0m 709us/step - loss: 4.7591 - val_loss: 3.6549\n",
      "Epoch 8/1000\n",
      "\u001b[1m1744/1822\u001b[0m \u001b[32m━━━━━━━━━━━━━━━━━━━\u001b[0m\u001b[37m━\u001b[0m \u001b[1m0s\u001b[0m 631us/step - loss: 4.7250\n",
      "Epoch 8: val_loss improved from 3.65486 to 3.56739, saving model to ./models/dense_64_32_11_mse_v4.keras\n",
      "\u001b[1m1822/1822\u001b[0m \u001b[32m━━━━━━━━━━━━━━━━━━━━\u001b[0m\u001b[37m\u001b[0m \u001b[1m1s\u001b[0m 711us/step - loss: 4.7317 - val_loss: 3.5674\n",
      "Epoch 9/1000\n",
      "\u001b[1m1798/1822\u001b[0m \u001b[32m━━━━━━━━━━━━━━━━━━━\u001b[0m\u001b[37m━\u001b[0m \u001b[1m0s\u001b[0m 686us/step - loss: 4.7002\n",
      "Epoch 9: val_loss improved from 3.56739 to 3.50088, saving model to ./models/dense_64_32_11_mse_v4.keras\n",
      "\u001b[1m1822/1822\u001b[0m \u001b[32m━━━━━━━━━━━━━━━━━━━━\u001b[0m\u001b[37m\u001b[0m \u001b[1m1s\u001b[0m 771us/step - loss: 4.7024 - val_loss: 3.5009\n",
      "Epoch 10/1000\n",
      "\u001b[1m1791/1822\u001b[0m \u001b[32m━━━━━━━━━━━━━━━━━━━\u001b[0m\u001b[37m━\u001b[0m \u001b[1m0s\u001b[0m 634us/step - loss: 4.6757\n",
      "Epoch 10: val_loss improved from 3.50088 to 3.45644, saving model to ./models/dense_64_32_11_mse_v4.keras\n",
      "\u001b[1m1822/1822\u001b[0m \u001b[32m━━━━━━━━━━━━━━━━━━━━\u001b[0m\u001b[37m\u001b[0m \u001b[1m1s\u001b[0m 722us/step - loss: 4.6783 - val_loss: 3.4564\n",
      "Epoch 11/1000\n",
      "\u001b[1m1814/1822\u001b[0m \u001b[32m━━━━━━━━━━━━━━━━━━━\u001b[0m\u001b[37m━\u001b[0m \u001b[1m0s\u001b[0m 606us/step - loss: 4.6540\n",
      "Epoch 11: val_loss did not improve from 3.45644\n",
      "\u001b[1m1822/1822\u001b[0m \u001b[32m━━━━━━━━━━━━━━━━━━━━\u001b[0m\u001b[37m\u001b[0m \u001b[1m1s\u001b[0m 674us/step - loss: 4.6547 - val_loss: 3.4568\n",
      "Epoch 12/1000\n",
      "\u001b[1m1802/1822\u001b[0m \u001b[32m━━━━━━━━━━━━━━━━━━━\u001b[0m\u001b[37m━\u001b[0m \u001b[1m0s\u001b[0m 622us/step - loss: 4.6343\n",
      "Epoch 12: val_loss did not improve from 3.45644\n",
      "\u001b[1m1822/1822\u001b[0m \u001b[32m━━━━━━━━━━━━━━━━━━━━\u001b[0m\u001b[37m\u001b[0m \u001b[1m1s\u001b[0m 710us/step - loss: 4.6358 - val_loss: 3.4874\n",
      "Epoch 13/1000\n",
      "\u001b[1m1749/1822\u001b[0m \u001b[32m━━━━━━━━━━━━━━━━━━━\u001b[0m\u001b[37m━\u001b[0m \u001b[1m0s\u001b[0m 588us/step - loss: 4.6187\n",
      "Epoch 13: val_loss did not improve from 3.45644\n",
      "\u001b[1m1822/1822\u001b[0m \u001b[32m━━━━━━━━━━━━━━━━━━━━\u001b[0m\u001b[37m\u001b[0m \u001b[1m1s\u001b[0m 665us/step - loss: 4.6228 - val_loss: 3.5857\n",
      "Epoch 14/1000\n",
      "\u001b[1m1745/1822\u001b[0m \u001b[32m━━━━━━━━━━━━━━━━━━━\u001b[0m\u001b[37m━\u001b[0m \u001b[1m0s\u001b[0m 595us/step - loss: 4.6118\n",
      "Epoch 14: val_loss improved from 3.45644 to 3.32100, saving model to ./models/dense_64_32_11_mse_v4.keras\n",
      "\u001b[1m1822/1822\u001b[0m \u001b[32m━━━━━━━━━━━━━━━━━━━━\u001b[0m\u001b[37m\u001b[0m \u001b[1m1s\u001b[0m 674us/step - loss: 4.6162 - val_loss: 3.3210\n",
      "Epoch 15/1000\n",
      "\u001b[1m1771/1822\u001b[0m \u001b[32m━━━━━━━━━━━━━━━━━━━\u001b[0m\u001b[37m━\u001b[0m \u001b[1m0s\u001b[0m 625us/step - loss: 4.5350\n",
      "Epoch 15: val_loss did not improve from 3.32100\n",
      "\u001b[1m1822/1822\u001b[0m \u001b[32m━━━━━━━━━━━━━━━━━━━━\u001b[0m\u001b[37m\u001b[0m \u001b[1m1s\u001b[0m 706us/step - loss: 4.5378 - val_loss: 3.6034\n",
      "Epoch 16/1000\n",
      "\u001b[1m1789/1822\u001b[0m \u001b[32m━━━━━━━━━━━━━━━━━━━\u001b[0m\u001b[37m━\u001b[0m \u001b[1m0s\u001b[0m 664us/step - loss: 4.5120\n",
      "Epoch 16: val_loss did not improve from 3.32100\n",
      "\u001b[1m1822/1822\u001b[0m \u001b[32m━━━━━━━━━━━━━━━━━━━━\u001b[0m\u001b[37m\u001b[0m \u001b[1m1s\u001b[0m 747us/step - loss: 4.5145 - val_loss: 3.6316\n",
      "Epoch 17/1000\n",
      "\u001b[1m1749/1822\u001b[0m \u001b[32m━━━━━━━━━━━━━━━━━━━\u001b[0m\u001b[37m━\u001b[0m \u001b[1m0s\u001b[0m 583us/step - loss: 4.4994\n",
      "Epoch 17: val_loss did not improve from 3.32100\n",
      "\u001b[1m1822/1822\u001b[0m \u001b[32m━━━━━━━━━━━━━━━━━━━━\u001b[0m\u001b[37m\u001b[0m \u001b[1m1s\u001b[0m 663us/step - loss: 4.5050 - val_loss: 3.9320\n",
      "Epoch 18/1000\n",
      "\u001b[1m1779/1822\u001b[0m \u001b[32m━━━━━━━━━━━━━━━━━━━\u001b[0m\u001b[37m━\u001b[0m \u001b[1m0s\u001b[0m 584us/step - loss: 4.4073\n",
      "Epoch 18: val_loss did not improve from 3.32100\n",
      "\u001b[1m1822/1822\u001b[0m \u001b[32m━━━━━━━━━━━━━━━━━━━━\u001b[0m\u001b[37m\u001b[0m \u001b[1m1s\u001b[0m 658us/step - loss: 4.4113 - val_loss: 4.0679\n",
      "Epoch 19/1000\n",
      "\u001b[1m1818/1822\u001b[0m \u001b[32m━━━━━━━━━━━━━━━━━━━\u001b[0m\u001b[37m━\u001b[0m \u001b[1m0s\u001b[0m 650us/step - loss: 4.2900\n",
      "Epoch 19: val_loss did not improve from 3.32100\n",
      "\u001b[1m1822/1822\u001b[0m \u001b[32m━━━━━━━━━━━━━━━━━━━━\u001b[0m\u001b[37m\u001b[0m \u001b[1m1s\u001b[0m 719us/step - loss: 4.2905 - val_loss: 4.0614\n",
      "Epoch 20/1000\n",
      "\u001b[1m1765/1822\u001b[0m \u001b[32m━━━━━━━━━━━━━━━━━━━\u001b[0m\u001b[37m━\u001b[0m \u001b[1m0s\u001b[0m 582us/step - loss: 4.1406\n",
      "Epoch 20: val_loss did not improve from 3.32100\n",
      "\u001b[1m1822/1822\u001b[0m \u001b[32m━━━━━━━━━━━━━━━━━━━━\u001b[0m\u001b[37m\u001b[0m \u001b[1m1s\u001b[0m 658us/step - loss: 4.1463 - val_loss: 4.0676\n",
      "Epoch 21/1000\n",
      "\u001b[1m1800/1822\u001b[0m \u001b[32m━━━━━━━━━━━━━━━━━━━\u001b[0m\u001b[37m━\u001b[0m \u001b[1m0s\u001b[0m 648us/step - loss: 4.0059\n",
      "Epoch 21: val_loss did not improve from 3.32100\n",
      "\u001b[1m1822/1822\u001b[0m \u001b[32m━━━━━━━━━━━━━━━━━━━━\u001b[0m\u001b[37m\u001b[0m \u001b[1m1s\u001b[0m 725us/step - loss: 4.0084 - val_loss: 3.9680\n",
      "Epoch 22/1000\n",
      "\u001b[1m1772/1822\u001b[0m \u001b[32m━━━━━━━━━━━━━━━━━━━\u001b[0m\u001b[37m━\u001b[0m \u001b[1m0s\u001b[0m 615us/step - loss: 3.9069\n",
      "Epoch 22: val_loss did not improve from 3.32100\n",
      "\u001b[1m1822/1822\u001b[0m \u001b[32m━━━━━━━━━━━━━━━━━━━━\u001b[0m\u001b[37m\u001b[0m \u001b[1m1s\u001b[0m 688us/step - loss: 3.9121 - val_loss: 3.7885\n",
      "Epoch 23/1000\n",
      "\u001b[1m1797/1822\u001b[0m \u001b[32m━━━━━━━━━━━━━━━━━━━\u001b[0m\u001b[37m━\u001b[0m \u001b[1m0s\u001b[0m 619us/step - loss: 3.8089\n",
      "Epoch 23: val_loss did not improve from 3.32100\n",
      "\u001b[1m1822/1822\u001b[0m \u001b[32m━━━━━━━━━━━━━━━━━━━━\u001b[0m\u001b[37m\u001b[0m \u001b[1m1s\u001b[0m 686us/step - loss: 3.8119 - val_loss: 3.5097\n",
      "Epoch 24/1000\n",
      "\u001b[1m1778/1822\u001b[0m \u001b[32m━━━━━━━━━━━━━━━━━━━\u001b[0m\u001b[37m━\u001b[0m \u001b[1m0s\u001b[0m 605us/step - loss: 3.7045\n",
      "Epoch 24: val_loss did not improve from 3.32100\n",
      "\u001b[1m1822/1822\u001b[0m \u001b[32m━━━━━━━━━━━━━━━━━━━━\u001b[0m\u001b[37m\u001b[0m \u001b[1m1s\u001b[0m 687us/step - loss: 3.7094 - val_loss: 3.5331\n",
      "Epoch 25/1000\n",
      "\u001b[1m1740/1822\u001b[0m \u001b[32m━━━━━━━━━━━━━━━━━━━\u001b[0m\u001b[37m━\u001b[0m \u001b[1m0s\u001b[0m 678us/step - loss: 3.5933\n",
      "Epoch 25: val_loss did not improve from 3.32100\n",
      "\u001b[1m1822/1822\u001b[0m \u001b[32m━━━━━━━━━━━━━━━━━━━━\u001b[0m\u001b[37m\u001b[0m \u001b[1m1s\u001b[0m 782us/step - loss: 3.6035 - val_loss: 4.1128\n",
      "Epoch 26/1000\n",
      "\u001b[1m1769/1822\u001b[0m \u001b[32m━━━━━━━━━━━━━━━━━━━\u001b[0m\u001b[37m━\u001b[0m \u001b[1m0s\u001b[0m 661us/step - loss: 3.4359\n",
      "Epoch 26: val_loss did not improve from 3.32100\n",
      "\u001b[1m1822/1822\u001b[0m \u001b[32m━━━━━━━━━━━━━━━━━━━━\u001b[0m\u001b[37m\u001b[0m \u001b[1m1s\u001b[0m 742us/step - loss: 3.4443 - val_loss: 4.8814\n",
      "Epoch 27/1000\n",
      "\u001b[1m1795/1822\u001b[0m \u001b[32m━━━━━━━━━━━━━━━━━━━\u001b[0m\u001b[37m━\u001b[0m \u001b[1m0s\u001b[0m 669us/step - loss: 3.3125\n",
      "Epoch 27: val_loss did not improve from 3.32100\n",
      "\u001b[1m1822/1822\u001b[0m \u001b[32m━━━━━━━━━━━━━━━━━━━━\u001b[0m\u001b[37m\u001b[0m \u001b[1m1s\u001b[0m 753us/step - loss: 3.3183 - val_loss: 4.9031\n",
      "Epoch 28/1000\n",
      "\u001b[1m1792/1822\u001b[0m \u001b[32m━━━━━━━━━━━━━━━━━━━\u001b[0m\u001b[37m━\u001b[0m \u001b[1m0s\u001b[0m 640us/step - loss: 3.1790\n",
      "Epoch 28: val_loss did not improve from 3.32100\n",
      "\u001b[1m1822/1822\u001b[0m \u001b[32m━━━━━━━━━━━━━━━━━━━━\u001b[0m\u001b[37m\u001b[0m \u001b[1m1s\u001b[0m 714us/step - loss: 3.1852 - val_loss: 4.7780\n",
      "Epoch 29/1000\n",
      "\u001b[1m1770/1822\u001b[0m \u001b[32m━━━━━━━━━━━━━━━━━━━\u001b[0m\u001b[37m━\u001b[0m \u001b[1m0s\u001b[0m 652us/step - loss: 3.1200\n",
      "Epoch 29: val_loss did not improve from 3.32100\n",
      "\u001b[1m1822/1822\u001b[0m \u001b[32m━━━━━━━━━━━━━━━━━━━━\u001b[0m\u001b[37m\u001b[0m \u001b[1m1s\u001b[0m 730us/step - loss: 3.1304 - val_loss: 4.3676\n",
      "Epoch 30/1000\n",
      "\u001b[1m1792/1822\u001b[0m \u001b[32m━━━━━━━━━━━━━━━━━━━\u001b[0m\u001b[37m━\u001b[0m \u001b[1m0s\u001b[0m 586us/step - loss: 3.0296\n",
      "Epoch 30: val_loss did not improve from 3.32100\n",
      "\u001b[1m1822/1822\u001b[0m \u001b[32m━━━━━━━━━━━━━━━━━━━━\u001b[0m\u001b[37m\u001b[0m \u001b[1m1s\u001b[0m 663us/step - loss: 3.0364 - val_loss: 4.1379\n",
      "Epoch 31/1000\n",
      "\u001b[1m1798/1822\u001b[0m \u001b[32m━━━━━━━━━━━━━━━━━━━\u001b[0m\u001b[37m━\u001b[0m \u001b[1m0s\u001b[0m 689us/step - loss: 2.9773\n",
      "Epoch 31: val_loss improved from 3.32100 to 3.12223, saving model to ./models/dense_64_32_11_mse_v4.keras\n",
      "\u001b[1m1822/1822\u001b[0m \u001b[32m━━━━━━━━━━━━━━━━━━━━\u001b[0m\u001b[37m\u001b[0m \u001b[1m1s\u001b[0m 761us/step - loss: 2.9832 - val_loss: 3.1222\n",
      "Epoch 32/1000\n",
      "\u001b[1m1754/1822\u001b[0m \u001b[32m━━━━━━━━━━━━━━━━━━━\u001b[0m\u001b[37m━\u001b[0m \u001b[1m0s\u001b[0m 614us/step - loss: 2.9101\n",
      "Epoch 32: val_loss did not improve from 3.12223\n",
      "\u001b[1m1822/1822\u001b[0m \u001b[32m━━━━━━━━━━━━━━━━━━━━\u001b[0m\u001b[37m\u001b[0m \u001b[1m1s\u001b[0m 687us/step - loss: 2.9244 - val_loss: 3.4404\n",
      "Epoch 33/1000\n",
      "\u001b[1m1774/1822\u001b[0m \u001b[32m━━━━━━━━━━━━━━━━━━━\u001b[0m\u001b[37m━\u001b[0m \u001b[1m0s\u001b[0m 612us/step - loss: 2.9294\n",
      "Epoch 33: val_loss improved from 3.12223 to 3.10638, saving model to ./models/dense_64_32_11_mse_v4.keras\n",
      "\u001b[1m1822/1822\u001b[0m \u001b[32m━━━━━━━━━━━━━━━━━━━━\u001b[0m\u001b[37m\u001b[0m \u001b[1m1s\u001b[0m 701us/step - loss: 2.9389 - val_loss: 3.1064\n",
      "Epoch 34/1000\n",
      "\u001b[1m1777/1822\u001b[0m \u001b[32m━━━━━━━━━━━━━━━━━━━\u001b[0m\u001b[37m━\u001b[0m \u001b[1m0s\u001b[0m 610us/step - loss: 2.8856\n",
      "Epoch 34: val_loss improved from 3.10638 to 2.86477, saving model to ./models/dense_64_32_11_mse_v4.keras\n",
      "\u001b[1m1822/1822\u001b[0m \u001b[32m━━━━━━━━━━━━━━━━━━━━\u001b[0m\u001b[37m\u001b[0m \u001b[1m1s\u001b[0m 686us/step - loss: 2.8933 - val_loss: 2.8648\n",
      "Epoch 35/1000\n",
      "\u001b[1m1774/1822\u001b[0m \u001b[32m━━━━━━━━━━━━━━━━━━━\u001b[0m\u001b[37m━\u001b[0m \u001b[1m0s\u001b[0m 609us/step - loss: 2.9688\n",
      "Epoch 35: val_loss improved from 2.86477 to 2.55464, saving model to ./models/dense_64_32_11_mse_v4.keras\n",
      "\u001b[1m1822/1822\u001b[0m \u001b[32m━━━━━━━━━━━━━━━━━━━━\u001b[0m\u001b[37m\u001b[0m \u001b[1m1s\u001b[0m 697us/step - loss: 2.9760 - val_loss: 2.5546\n",
      "Epoch 36/1000\n",
      "\u001b[1m1809/1822\u001b[0m \u001b[32m━━━━━━━━━━━━━━━━━━━\u001b[0m\u001b[37m━\u001b[0m \u001b[1m0s\u001b[0m 632us/step - loss: 2.9218\n",
      "Epoch 36: val_loss improved from 2.55464 to 2.50683, saving model to ./models/dense_64_32_11_mse_v4.keras\n",
      "\u001b[1m1822/1822\u001b[0m \u001b[32m━━━━━━━━━━━━━━━━━━━━\u001b[0m\u001b[37m\u001b[0m \u001b[1m1s\u001b[0m 721us/step - loss: 2.9243 - val_loss: 2.5068\n",
      "Epoch 37/1000\n",
      "\u001b[1m1746/1822\u001b[0m \u001b[32m━━━━━━━━━━━━━━━━━━━\u001b[0m\u001b[37m━\u001b[0m \u001b[1m0s\u001b[0m 596us/step - loss: 2.9632\n",
      "Epoch 37: val_loss did not improve from 2.50683\n",
      "\u001b[1m1822/1822\u001b[0m \u001b[32m━━━━━━━━━━━━━━━━━━━━\u001b[0m\u001b[37m\u001b[0m \u001b[1m1s\u001b[0m 669us/step - loss: 2.9783 - val_loss: 3.5960\n",
      "Epoch 38/1000\n",
      "\u001b[1m1796/1822\u001b[0m \u001b[32m━━━━━━━━━━━━━━━━━━━\u001b[0m\u001b[37m━\u001b[0m \u001b[1m0s\u001b[0m 572us/step - loss: 3.1270\n",
      "Epoch 38: val_loss did not improve from 2.50683\n",
      "\u001b[1m1822/1822\u001b[0m \u001b[32m━━━━━━━━━━━━━━━━━━━━\u001b[0m\u001b[37m\u001b[0m \u001b[1m1s\u001b[0m 643us/step - loss: 3.1318 - val_loss: 3.3980\n",
      "Epoch 39/1000\n",
      "\u001b[1m1752/1822\u001b[0m \u001b[32m━━━━━━━━━━━━━━━━━━━\u001b[0m\u001b[37m━\u001b[0m \u001b[1m0s\u001b[0m 587us/step - loss: 3.1177\n",
      "Epoch 39: val_loss improved from 2.50683 to 2.42435, saving model to ./models/dense_64_32_11_mse_v4.keras\n",
      "\u001b[1m1822/1822\u001b[0m \u001b[32m━━━━━━━━━━━━━━━━━━━━\u001b[0m\u001b[37m\u001b[0m \u001b[1m1s\u001b[0m 664us/step - loss: 3.1301 - val_loss: 2.4244\n",
      "Epoch 40/1000\n",
      "\u001b[1m1796/1822\u001b[0m \u001b[32m━━━━━━━━━━━━━━━━━━━\u001b[0m\u001b[37m━\u001b[0m \u001b[1m0s\u001b[0m 614us/step - loss: 3.0162\n",
      "Epoch 40: val_loss improved from 2.42435 to 2.07281, saving model to ./models/dense_64_32_11_mse_v4.keras\n",
      "\u001b[1m1822/1822\u001b[0m \u001b[32m━━━━━━━━━━━━━━━━━━━━\u001b[0m\u001b[37m\u001b[0m \u001b[1m1s\u001b[0m 699us/step - loss: 3.0159 - val_loss: 2.0728\n",
      "Epoch 41/1000\n",
      "\u001b[1m1785/1822\u001b[0m \u001b[32m━━━━━━━━━━━━━━━━━━━\u001b[0m\u001b[37m━\u001b[0m \u001b[1m0s\u001b[0m 668us/step - loss: 4.4327\n",
      "Epoch 41: val_loss improved from 2.07281 to 2.02623, saving model to ./models/dense_64_32_11_mse_v4.keras\n",
      "\u001b[1m1822/1822\u001b[0m \u001b[32m━━━━━━━━━━━━━━━━━━━━\u001b[0m\u001b[37m\u001b[0m \u001b[1m1s\u001b[0m 751us/step - loss: 4.4291 - val_loss: 2.0262\n",
      "Epoch 42/1000\n",
      "\u001b[1m1812/1822\u001b[0m \u001b[32m━━━━━━━━━━━━━━━━━━━\u001b[0m\u001b[37m━\u001b[0m \u001b[1m0s\u001b[0m 599us/step - loss: 3.0847\n",
      "Epoch 42: val_loss did not improve from 2.02623\n",
      "\u001b[1m1822/1822\u001b[0m \u001b[32m━━━━━━━━━━━━━━━━━━━━\u001b[0m\u001b[37m\u001b[0m \u001b[1m1s\u001b[0m 679us/step - loss: 3.0864 - val_loss: 2.4733\n",
      "Epoch 43/1000\n",
      "\u001b[1m1814/1822\u001b[0m \u001b[32m━━━━━━━━━━━━━━━━━━━\u001b[0m\u001b[37m━\u001b[0m \u001b[1m0s\u001b[0m 605us/step - loss: 3.2980\n",
      "Epoch 43: val_loss did not improve from 2.02623\n",
      "\u001b[1m1822/1822\u001b[0m \u001b[32m━━━━━━━━━━━━━━━━━━━━\u001b[0m\u001b[37m\u001b[0m \u001b[1m1s\u001b[0m 677us/step - loss: 3.2976 - val_loss: 2.0269\n",
      "Epoch 44/1000\n",
      "\u001b[1m1822/1822\u001b[0m \u001b[32m━━━━━━━━━━━━━━━━━━━━\u001b[0m\u001b[37m\u001b[0m \u001b[1m0s\u001b[0m 709us/step - loss: 4.4101\n",
      "Epoch 44: val_loss did not improve from 2.02623\n",
      "\u001b[1m1822/1822\u001b[0m \u001b[32m━━━━━━━━━━━━━━━━━━━━\u001b[0m\u001b[37m\u001b[0m \u001b[1m1s\u001b[0m 803us/step - loss: 4.4102 - val_loss: 4.7971\n",
      "Epoch 45/1000\n",
      "\u001b[1m1815/1822\u001b[0m \u001b[32m━━━━━━━━━━━━━━━━━━━\u001b[0m\u001b[37m━\u001b[0m \u001b[1m0s\u001b[0m 605us/step - loss: 6.2428\n",
      "Epoch 45: val_loss did not improve from 2.02623\n",
      "\u001b[1m1822/1822\u001b[0m \u001b[32m━━━━━━━━━━━━━━━━━━━━\u001b[0m\u001b[37m\u001b[0m \u001b[1m1s\u001b[0m 688us/step - loss: 6.2430 - val_loss: 4.2116\n",
      "Epoch 46/1000\n",
      "\u001b[1m1805/1822\u001b[0m \u001b[32m━━━━━━━━━━━━━━━━━━━\u001b[0m\u001b[37m━\u001b[0m \u001b[1m0s\u001b[0m 619us/step - loss: 7.2658\n",
      "Epoch 46: val_loss did not improve from 2.02623\n",
      "\u001b[1m1822/1822\u001b[0m \u001b[32m━━━━━━━━━━━━━━━━━━━━\u001b[0m\u001b[37m\u001b[0m \u001b[1m1s\u001b[0m 691us/step - loss: 7.2625 - val_loss: 5.4532\n",
      "Epoch 47/1000\n",
      "\u001b[1m1764/1822\u001b[0m \u001b[32m━━━━━━━━━━━━━━━━━━━\u001b[0m\u001b[37m━\u001b[0m \u001b[1m0s\u001b[0m 610us/step - loss: 6.4084\n",
      "Epoch 47: val_loss did not improve from 2.02623\n",
      "\u001b[1m1822/1822\u001b[0m \u001b[32m━━━━━━━━━━━━━━━━━━━━\u001b[0m\u001b[37m\u001b[0m \u001b[1m1s\u001b[0m 693us/step - loss: 6.4078 - val_loss: 4.7146\n",
      "Epoch 48/1000\n",
      "\u001b[1m1767/1822\u001b[0m \u001b[32m━━━━━━━━━━━━━━━━━━━\u001b[0m\u001b[37m━\u001b[0m \u001b[1m0s\u001b[0m 672us/step - loss: 6.0091\n",
      "Epoch 48: val_loss did not improve from 2.02623\n",
      "\u001b[1m1822/1822\u001b[0m \u001b[32m━━━━━━━━━━━━━━━━━━━━\u001b[0m\u001b[37m\u001b[0m \u001b[1m1s\u001b[0m 748us/step - loss: 6.0102 - val_loss: 4.1093\n",
      "Epoch 49/1000\n",
      "\u001b[1m1806/1822\u001b[0m \u001b[32m━━━━━━━━━━━━━━━━━━━\u001b[0m\u001b[37m━\u001b[0m \u001b[1m0s\u001b[0m 633us/step - loss: 5.9632\n",
      "Epoch 49: val_loss did not improve from 2.02623\n",
      "\u001b[1m1822/1822\u001b[0m \u001b[32m━━━━━━━━━━━━━━━━━━━━\u001b[0m\u001b[37m\u001b[0m \u001b[1m1s\u001b[0m 714us/step - loss: 5.9635 - val_loss: 3.9348\n",
      "Epoch 50/1000\n",
      "\u001b[1m1739/1822\u001b[0m \u001b[32m━━━━━━━━━━━━━━━━━━━\u001b[0m\u001b[37m━\u001b[0m \u001b[1m0s\u001b[0m 667us/step - loss: 5.8961\n",
      "Epoch 50: val_loss did not improve from 2.02623\n",
      "\u001b[1m1822/1822\u001b[0m \u001b[32m━━━━━━━━━━━━━━━━━━━━\u001b[0m\u001b[37m\u001b[0m \u001b[1m1s\u001b[0m 747us/step - loss: 5.8964 - val_loss: 3.8962\n",
      "Epoch 51/1000\n",
      "\u001b[1m1803/1822\u001b[0m \u001b[32m━━━━━━━━━━━━━━━━━━━\u001b[0m\u001b[37m━\u001b[0m \u001b[1m0s\u001b[0m 689us/step - loss: 6.0560\n",
      "Epoch 51: val_loss did not improve from 2.02623\n",
      "\u001b[1m1822/1822\u001b[0m \u001b[32m━━━━━━━━━━━━━━━━━━━━\u001b[0m\u001b[37m\u001b[0m \u001b[1m1s\u001b[0m 775us/step - loss: 6.0481 - val_loss: 2.4891\n",
      "Epoch 52/1000\n",
      "\u001b[1m1795/1822\u001b[0m \u001b[32m━━━━━━━━━━━━━━━━━━━\u001b[0m\u001b[37m━\u001b[0m \u001b[1m0s\u001b[0m 680us/step - loss: 2.8566\n",
      "Epoch 52: val_loss did not improve from 2.02623\n",
      "\u001b[1m1822/1822\u001b[0m \u001b[32m━━━━━━━━━━━━━━━━━━━━\u001b[0m\u001b[37m\u001b[0m \u001b[1m1s\u001b[0m 758us/step - loss: 2.8628 - val_loss: 2.5150\n",
      "Epoch 53/1000\n",
      "\u001b[1m1767/1822\u001b[0m \u001b[32m━━━━━━━━━━━━━━━━━━━\u001b[0m\u001b[37m━\u001b[0m \u001b[1m0s\u001b[0m 599us/step - loss: 2.7124\n",
      "Epoch 53: val_loss did not improve from 2.02623\n",
      "\u001b[1m1822/1822\u001b[0m \u001b[32m━━━━━━━━━━━━━━━━━━━━\u001b[0m\u001b[37m\u001b[0m \u001b[1m1s\u001b[0m 664us/step - loss: 2.7275 - val_loss: 2.1370\n",
      "Epoch 54/1000\n",
      "\u001b[1m1740/1822\u001b[0m \u001b[32m━━━━━━━━━━━━━━━━━━━\u001b[0m\u001b[37m━\u001b[0m \u001b[1m0s\u001b[0m 600us/step - loss: 3.1098\n",
      "Epoch 54: val_loss improved from 2.02623 to 1.82037, saving model to ./models/dense_64_32_11_mse_v4.keras\n",
      "\u001b[1m1822/1822\u001b[0m \u001b[32m━━━━━━━━━━━━━━━━━━━━\u001b[0m\u001b[37m\u001b[0m \u001b[1m1s\u001b[0m 686us/step - loss: 3.1121 - val_loss: 1.8204\n",
      "Epoch 55/1000\n",
      "\u001b[1m1797/1822\u001b[0m \u001b[32m━━━━━━━━━━━━━━━━━━━\u001b[0m\u001b[37m━\u001b[0m \u001b[1m0s\u001b[0m 607us/step - loss: 3.9020\n",
      "Epoch 55: val_loss did not improve from 1.82037\n",
      "\u001b[1m1822/1822\u001b[0m \u001b[32m━━━━━━━━━━━━━━━━━━━━\u001b[0m\u001b[37m\u001b[0m \u001b[1m1s\u001b[0m 677us/step - loss: 3.9007 - val_loss: 1.8409\n",
      "Epoch 56/1000\n",
      "\u001b[1m1781/1822\u001b[0m \u001b[32m━━━━━━━━━━━━━━━━━━━\u001b[0m\u001b[37m━\u001b[0m \u001b[1m0s\u001b[0m 573us/step - loss: 3.6628\n",
      "Epoch 56: val_loss did not improve from 1.82037\n",
      "\u001b[1m1822/1822\u001b[0m \u001b[32m━━━━━━━━━━━━━━━━━━━━\u001b[0m\u001b[37m\u001b[0m \u001b[1m1s\u001b[0m 652us/step - loss: 3.6645 - val_loss: 2.1289\n",
      "Epoch 57/1000\n",
      "\u001b[1m1801/1822\u001b[0m \u001b[32m━━━━━━━━━━━━━━━━━━━\u001b[0m\u001b[37m━\u001b[0m \u001b[1m0s\u001b[0m 640us/step - loss: 2.9183\n",
      "Epoch 57: val_loss did not improve from 1.82037\n",
      "\u001b[1m1822/1822\u001b[0m \u001b[32m━━━━━━━━━━━━━━━━━━━━\u001b[0m\u001b[37m\u001b[0m \u001b[1m1s\u001b[0m 718us/step - loss: 2.9195 - val_loss: 1.9379\n",
      "Epoch 58/1000\n",
      "\u001b[1m1765/1822\u001b[0m \u001b[32m━━━━━━━━━━━━━━━━━━━\u001b[0m\u001b[37m━\u001b[0m \u001b[1m0s\u001b[0m 641us/step - loss: 3.6586\n",
      "Epoch 58: val_loss did not improve from 1.82037\n",
      "\u001b[1m1822/1822\u001b[0m \u001b[32m━━━━━━━━━━━━━━━━━━━━\u001b[0m\u001b[37m\u001b[0m \u001b[1m1s\u001b[0m 714us/step - loss: 3.6654 - val_loss: 2.2204\n",
      "Epoch 59/1000\n",
      "\u001b[1m1801/1822\u001b[0m \u001b[32m━━━━━━━━━━━━━━━━━━━\u001b[0m\u001b[37m━\u001b[0m \u001b[1m0s\u001b[0m 657us/step - loss: 2.7566\n",
      "Epoch 59: val_loss did not improve from 1.82037\n",
      "\u001b[1m1822/1822\u001b[0m \u001b[32m━━━━━━━━━━━━━━━━━━━━\u001b[0m\u001b[37m\u001b[0m \u001b[1m1s\u001b[0m 736us/step - loss: 2.7610 - val_loss: 1.9599\n",
      "Epoch 60/1000\n",
      "\u001b[1m1783/1822\u001b[0m \u001b[32m━━━━━━━━━━━━━━━━━━━\u001b[0m\u001b[37m━\u001b[0m \u001b[1m0s\u001b[0m 714us/step - loss: 2.8633\n",
      "Epoch 60: val_loss improved from 1.82037 to 1.65774, saving model to ./models/dense_64_32_11_mse_v4.keras\n",
      "\u001b[1m1822/1822\u001b[0m \u001b[32m━━━━━━━━━━━━━━━━━━━━\u001b[0m\u001b[37m\u001b[0m \u001b[1m1s\u001b[0m 792us/step - loss: 2.8704 - val_loss: 1.6577\n",
      "Epoch 61/1000\n",
      "\u001b[1m1763/1822\u001b[0m \u001b[32m━━━━━━━━━━━━━━━━━━━\u001b[0m\u001b[37m━\u001b[0m \u001b[1m0s\u001b[0m 595us/step - loss: 2.9864\n",
      "Epoch 61: val_loss did not improve from 1.65774\n",
      "\u001b[1m1822/1822\u001b[0m \u001b[32m━━━━━━━━━━━━━━━━━━━━\u001b[0m\u001b[37m\u001b[0m \u001b[1m1s\u001b[0m 662us/step - loss: 2.9848 - val_loss: 2.2010\n",
      "Epoch 62/1000\n",
      "\u001b[1m1822/1822\u001b[0m \u001b[32m━━━━━━━━━━━━━━━━━━━━\u001b[0m\u001b[37m\u001b[0m \u001b[1m0s\u001b[0m 658us/step - loss: 5.1614\n",
      "Epoch 62: val_loss did not improve from 1.65774\n",
      "\u001b[1m1822/1822\u001b[0m \u001b[32m━━━━━━━━━━━━━━━━━━━━\u001b[0m\u001b[37m\u001b[0m \u001b[1m1s\u001b[0m 744us/step - loss: 5.1618 - val_loss: 4.0213\n",
      "Epoch 63/1000\n",
      "\u001b[1m1764/1822\u001b[0m \u001b[32m━━━━━━━━━━━━━━━━━━━\u001b[0m\u001b[37m━\u001b[0m \u001b[1m0s\u001b[0m 609us/step - loss: 6.5268\n",
      "Epoch 63: val_loss did not improve from 1.65774\n",
      "\u001b[1m1822/1822\u001b[0m \u001b[32m━━━━━━━━━━━━━━━━━━━━\u001b[0m\u001b[37m\u001b[0m \u001b[1m1s\u001b[0m 678us/step - loss: 6.5158 - val_loss: 3.9658\n",
      "Epoch 64/1000\n",
      "\u001b[1m1809/1822\u001b[0m \u001b[32m━━━━━━━━━━━━━━━━━━━\u001b[0m\u001b[37m━\u001b[0m \u001b[1m0s\u001b[0m 635us/step - loss: 5.9718\n",
      "Epoch 64: val_loss did not improve from 1.65774\n",
      "\u001b[1m1822/1822\u001b[0m \u001b[32m━━━━━━━━━━━━━━━━━━━━\u001b[0m\u001b[37m\u001b[0m \u001b[1m1s\u001b[0m 711us/step - loss: 5.9719 - val_loss: 4.0239\n",
      "Epoch 65/1000\n",
      "\u001b[1m1760/1822\u001b[0m \u001b[32m━━━━━━━━━━━━━━━━━━━\u001b[0m\u001b[37m━\u001b[0m \u001b[1m0s\u001b[0m 594us/step - loss: 6.1195\n",
      "Epoch 65: val_loss did not improve from 1.65774\n",
      "\u001b[1m1822/1822\u001b[0m \u001b[32m━━━━━━━━━━━━━━━━━━━━\u001b[0m\u001b[37m\u001b[0m \u001b[1m1s\u001b[0m 678us/step - loss: 6.1070 - val_loss: 3.6024\n",
      "Epoch 66/1000\n",
      "\u001b[1m1731/1822\u001b[0m \u001b[32m━━━━━━━━━━━━━━━━━━━\u001b[0m\u001b[37m━\u001b[0m \u001b[1m0s\u001b[0m 640us/step - loss: 5.2372\n",
      "Epoch 66: val_loss did not improve from 1.65774\n",
      "\u001b[1m1822/1822\u001b[0m \u001b[32m━━━━━━━━━━━━━━━━━━━━\u001b[0m\u001b[37m\u001b[0m \u001b[1m1s\u001b[0m 710us/step - loss: 5.2353 - val_loss: 3.5479\n",
      "Epoch 67/1000\n",
      "\u001b[1m1819/1822\u001b[0m \u001b[32m━━━━━━━━━━━━━━━━━━━\u001b[0m\u001b[37m━\u001b[0m \u001b[1m0s\u001b[0m 609us/step - loss: 5.1582\n",
      "Epoch 67: val_loss did not improve from 1.65774\n",
      "\u001b[1m1822/1822\u001b[0m \u001b[32m━━━━━━━━━━━━━━━━━━━━\u001b[0m\u001b[37m\u001b[0m \u001b[1m1s\u001b[0m 685us/step - loss: 5.1582 - val_loss: 3.7286\n",
      "Epoch 68/1000\n",
      "\u001b[1m1777/1822\u001b[0m \u001b[32m━━━━━━━━━━━━━━━━━━━\u001b[0m\u001b[37m━\u001b[0m \u001b[1m0s\u001b[0m 632us/step - loss: 5.1415\n",
      "Epoch 68: val_loss did not improve from 1.65774\n",
      "\u001b[1m1822/1822\u001b[0m \u001b[32m━━━━━━━━━━━━━━━━━━━━\u001b[0m\u001b[37m\u001b[0m \u001b[1m1s\u001b[0m 706us/step - loss: 5.1318 - val_loss: 2.1744\n",
      "Epoch 69/1000\n",
      "\u001b[1m1797/1822\u001b[0m \u001b[32m━━━━━━━━━━━━━━━━━━━\u001b[0m\u001b[37m━\u001b[0m \u001b[1m0s\u001b[0m 585us/step - loss: 2.7057\n",
      "Epoch 69: val_loss did not improve from 1.65774\n",
      "\u001b[1m1822/1822\u001b[0m \u001b[32m━━━━━━━━━━━━━━━━━━━━\u001b[0m\u001b[37m\u001b[0m \u001b[1m1s\u001b[0m 661us/step - loss: 2.7105 - val_loss: 1.9261\n",
      "Epoch 70/1000\n",
      "\u001b[1m1775/1822\u001b[0m \u001b[32m━━━━━━━━━━━━━━━━━━━\u001b[0m\u001b[37m━\u001b[0m \u001b[1m0s\u001b[0m 569us/step - loss: 2.4129\n",
      "Epoch 70: val_loss did not improve from 1.65774\n",
      "\u001b[1m1822/1822\u001b[0m \u001b[32m━━━━━━━━━━━━━━━━━━━━\u001b[0m\u001b[37m\u001b[0m \u001b[1m1s\u001b[0m 650us/step - loss: 2.4153 - val_loss: 2.2955\n",
      "Epoch 71/1000\n",
      "\u001b[1m1801/1822\u001b[0m \u001b[32m━━━━━━━━━━━━━━━━━━━\u001b[0m\u001b[37m━\u001b[0m \u001b[1m0s\u001b[0m 621us/step - loss: 3.5964\n",
      "Epoch 71: val_loss did not improve from 1.65774\n",
      "\u001b[1m1822/1822\u001b[0m \u001b[32m━━━━━━━━━━━━━━━━━━━━\u001b[0m\u001b[37m\u001b[0m \u001b[1m1s\u001b[0m 684us/step - loss: 3.6002 - val_loss: 4.7020\n",
      "Epoch 72/1000\n",
      "\u001b[1m1816/1822\u001b[0m \u001b[32m━━━━━━━━━━━━━━━━━━━\u001b[0m\u001b[37m━\u001b[0m \u001b[1m0s\u001b[0m 585us/step - loss: 5.6678\n",
      "Epoch 72: val_loss did not improve from 1.65774\n",
      "\u001b[1m1822/1822\u001b[0m \u001b[32m━━━━━━━━━━━━━━━━━━━━\u001b[0m\u001b[37m\u001b[0m \u001b[1m1s\u001b[0m 662us/step - loss: 5.6680 - val_loss: 3.9542\n",
      "Epoch 73/1000\n",
      "\u001b[1m1790/1822\u001b[0m \u001b[32m━━━━━━━━━━━━━━━━━━━\u001b[0m\u001b[37m━\u001b[0m \u001b[1m0s\u001b[0m 614us/step - loss: 5.6917\n",
      "Epoch 73: val_loss did not improve from 1.65774\n",
      "\u001b[1m1822/1822\u001b[0m \u001b[32m━━━━━━━━━━━━━━━━━━━━\u001b[0m\u001b[37m\u001b[0m \u001b[1m1s\u001b[0m 681us/step - loss: 5.6920 - val_loss: 3.8736\n",
      "Epoch 74/1000\n",
      "\u001b[1m1822/1822\u001b[0m \u001b[32m━━━━━━━━━━━━━━━━━━━━\u001b[0m\u001b[37m\u001b[0m \u001b[1m0s\u001b[0m 595us/step - loss: 5.6234\n",
      "Epoch 74: val_loss did not improve from 1.65774\n",
      "\u001b[1m1822/1822\u001b[0m \u001b[32m━━━━━━━━━━━━━━━━━━━━\u001b[0m\u001b[37m\u001b[0m \u001b[1m1s\u001b[0m 665us/step - loss: 5.6234 - val_loss: 3.8353\n",
      "Epoch 75/1000\n",
      "\u001b[1m1794/1822\u001b[0m \u001b[32m━━━━━━━━━━━━━━━━━━━\u001b[0m\u001b[37m━\u001b[0m \u001b[1m0s\u001b[0m 603us/step - loss: 5.5470\n",
      "Epoch 75: val_loss did not improve from 1.65774\n",
      "\u001b[1m1822/1822\u001b[0m \u001b[32m━━━━━━━━━━━━━━━━━━━━\u001b[0m\u001b[37m\u001b[0m \u001b[1m1s\u001b[0m 688us/step - loss: 5.5476 - val_loss: 3.7321\n",
      "Epoch 76/1000\n",
      "\u001b[1m1765/1822\u001b[0m \u001b[32m━━━━━━━━━━━━━━━━━━━\u001b[0m\u001b[37m━\u001b[0m \u001b[1m0s\u001b[0m 650us/step - loss: 5.0299\n",
      "Epoch 76: val_loss did not improve from 1.65774\n",
      "\u001b[1m1822/1822\u001b[0m \u001b[32m━━━━━━━━━━━━━━━━━━━━\u001b[0m\u001b[37m\u001b[0m \u001b[1m1s\u001b[0m 720us/step - loss: 5.0088 - val_loss: 4.1213\n",
      "Epoch 77/1000\n",
      "\u001b[1m1741/1822\u001b[0m \u001b[32m━━━━━━━━━━━━━━━━━━━\u001b[0m\u001b[37m━\u001b[0m \u001b[1m0s\u001b[0m 572us/step - loss: 5.6429\n",
      "Epoch 77: val_loss did not improve from 1.65774\n",
      "\u001b[1m1822/1822\u001b[0m \u001b[32m━━━━━━━━━━━━━━━━━━━━\u001b[0m\u001b[37m\u001b[0m \u001b[1m1s\u001b[0m 648us/step - loss: 5.6400 - val_loss: 3.6733\n",
      "Epoch 78/1000\n",
      "\u001b[1m1753/1822\u001b[0m \u001b[32m━━━━━━━━━━━━━━━━━━━\u001b[0m\u001b[37m━\u001b[0m \u001b[1m0s\u001b[0m 652us/step - loss: 5.3994\n",
      "Epoch 78: val_loss did not improve from 1.65774\n",
      "\u001b[1m1822/1822\u001b[0m \u001b[32m━━━━━━━━━━━━━━━━━━━━\u001b[0m\u001b[37m\u001b[0m \u001b[1m1s\u001b[0m 725us/step - loss: 5.4007 - val_loss: 3.5317\n",
      "Epoch 79/1000\n",
      "\u001b[1m1764/1822\u001b[0m \u001b[32m━━━━━━━━━━━━━━━━━━━\u001b[0m\u001b[37m━\u001b[0m \u001b[1m0s\u001b[0m 613us/step - loss: 5.3607\n",
      "Epoch 79: val_loss did not improve from 1.65774\n",
      "\u001b[1m1822/1822\u001b[0m \u001b[32m━━━━━━━━━━━━━━━━━━━━\u001b[0m\u001b[37m\u001b[0m \u001b[1m1s\u001b[0m 677us/step - loss: 5.3619 - val_loss: 3.4670\n",
      "Epoch 80/1000\n",
      "\u001b[1m1810/1822\u001b[0m \u001b[32m━━━━━━━━━━━━━━━━━━━\u001b[0m\u001b[37m━\u001b[0m \u001b[1m0s\u001b[0m 629us/step - loss: 5.3011\n",
      "Epoch 80: val_loss did not improve from 1.65774\n",
      "\u001b[1m1822/1822\u001b[0m \u001b[32m━━━━━━━━━━━━━━━━━━━━\u001b[0m\u001b[37m\u001b[0m \u001b[1m1s\u001b[0m 704us/step - loss: 5.3016 - val_loss: 3.4856\n"
     ]
    }
   ],
   "source": [
    "if new_train:\n",
    "    # Set model train seed\n",
    "    set_random_seed(42)\n",
    "\n",
    "    history = model.fit(X_train, y_train, epochs=1000, validation_data=(X_val, y_val), callbacks=[early_stopping_cb, model_checkpoint_cb])"
   ]
  },
  {
   "cell_type": "code",
   "execution_count": 29,
   "metadata": {},
   "outputs": [],
   "source": [
    "def symetric_mape(A, F):\n",
    "    \"\"\"\n",
    "    Symmetric Mean Absolute Percentage Error (SMAPE) metric.\n",
    "\n",
    "    Parameters\n",
    "    ----------\n",
    "    A : np.array\n",
    "        Actual values.\n",
    "\n",
    "    F : np.array\n",
    "        Forecasted values.\n",
    "\n",
    "    Returns\n",
    "    -------\n",
    "    float\n",
    "        SMAPE metric value.\n",
    "    \n",
    "    \"\"\"\n",
    "    return 100/len(A) * np.sum(2 * np.abs(F - A) / (np.abs(A) + np.abs(F)))"
   ]
  },
  {
   "cell_type": "markdown",
   "metadata": {},
   "source": [
    "### Reference values for MAPE and SMAPE\n",
    "\n",
    "| MAPE Value | SMAPE Value | Predictive Performance Evaluation\n",
    "| :-: | :-: | :-: |\n",
    "| < 10% | <10% | Highly accurate forecasting |\n",
    "| 10-20% | 10-20% | Good forecasting |\n",
    "| 20-50% | 20-50% | Reasonable forecasting |\n",
    "| >50% | >50% | Inaccurate forecasting |\n"
   ]
  },
  {
   "cell_type": "code",
   "execution_count": 30,
   "metadata": {},
   "outputs": [],
   "source": [
    "from sklearn.metrics import r2_score, mean_absolute_percentage_error"
   ]
  },
  {
   "cell_type": "code",
   "execution_count": 31,
   "metadata": {},
   "outputs": [
    {
     "name": "stdout",
     "output_type": "stream",
     "text": [
      "\u001b[1m228/228\u001b[0m \u001b[32m━━━━━━━━━━━━━━━━━━━━\u001b[0m\u001b[37m\u001b[0m \u001b[1m0s\u001b[0m 590us/step\n"
     ]
    },
    {
     "data": {
      "text/html": [
       "<div>\n",
       "<style scoped>\n",
       "    .dataframe tbody tr th:only-of-type {\n",
       "        vertical-align: middle;\n",
       "    }\n",
       "\n",
       "    .dataframe tbody tr th {\n",
       "        vertical-align: top;\n",
       "    }\n",
       "\n",
       "    .dataframe thead th {\n",
       "        text-align: right;\n",
       "    }\n",
       "</style>\n",
       "<table border=\"1\" class=\"dataframe\">\n",
       "  <thead>\n",
       "    <tr style=\"text-align: right;\">\n",
       "      <th></th>\n",
       "      <th>mape</th>\n",
       "      <th>smape</th>\n",
       "      <th>r2</th>\n",
       "      <th>mse</th>\n",
       "    </tr>\n",
       "  </thead>\n",
       "  <tbody>\n",
       "    <tr>\n",
       "      <th>consumoEspecificoTG1_2</th>\n",
       "      <td>3.656196e+14</td>\n",
       "      <td>99.655023</td>\n",
       "      <td>0.994989</td>\n",
       "      <td>0.114991</td>\n",
       "    </tr>\n",
       "    <tr>\n",
       "      <th>potenciaGeradaTG2_2</th>\n",
       "      <td>1.611989e+15</td>\n",
       "      <td>107.145149</td>\n",
       "      <td>0.941030</td>\n",
       "      <td>0.540459</td>\n",
       "    </tr>\n",
       "    <tr>\n",
       "      <th>potenciaGeradaTG1_2</th>\n",
       "      <td>9.095740e+14</td>\n",
       "      <td>99.719345</td>\n",
       "      <td>0.994636</td>\n",
       "      <td>0.554716</td>\n",
       "    </tr>\n",
       "    <tr>\n",
       "      <th>consumoEspecificoTG2_2</th>\n",
       "      <td>9.042337e+14</td>\n",
       "      <td>105.186075</td>\n",
       "      <td>0.976840</td>\n",
       "      <td>0.786673</td>\n",
       "    </tr>\n",
       "    <tr>\n",
       "      <th>potenciaGeradaTG1_1</th>\n",
       "      <td>1.311101e+15</td>\n",
       "      <td>101.533810</td>\n",
       "      <td>0.993156</td>\n",
       "      <td>1.040905</td>\n",
       "    </tr>\n",
       "    <tr>\n",
       "      <th>potenciaGeradaTG2_1</th>\n",
       "      <td>2.049823e+15</td>\n",
       "      <td>105.426361</td>\n",
       "      <td>0.985323</td>\n",
       "      <td>1.224871</td>\n",
       "    </tr>\n",
       "    <tr>\n",
       "      <th>consumoEspecificoTG1_1</th>\n",
       "      <td>8.267670e+14</td>\n",
       "      <td>103.671293</td>\n",
       "      <td>0.968849</td>\n",
       "      <td>2.008029</td>\n",
       "    </tr>\n",
       "    <tr>\n",
       "      <th>consumoEspecificoTG2_1</th>\n",
       "      <td>3.720910e+15</td>\n",
       "      <td>112.501693</td>\n",
       "      <td>0.924523</td>\n",
       "      <td>4.290878</td>\n",
       "    </tr>\n",
       "    <tr>\n",
       "      <th>vazaoVaporEscape</th>\n",
       "      <td>4.832264e-03</td>\n",
       "      <td>0.483144</td>\n",
       "      <td>0.999057</td>\n",
       "      <td>4.480604</td>\n",
       "    </tr>\n",
       "  </tbody>\n",
       "</table>\n",
       "</div>"
      ],
      "text/plain": [
       "                                mape       smape        r2       mse\n",
       "consumoEspecificoTG1_2  3.656196e+14   99.655023  0.994989  0.114991\n",
       "potenciaGeradaTG2_2     1.611989e+15  107.145149  0.941030  0.540459\n",
       "potenciaGeradaTG1_2     9.095740e+14   99.719345  0.994636  0.554716\n",
       "consumoEspecificoTG2_2  9.042337e+14  105.186075  0.976840  0.786673\n",
       "potenciaGeradaTG1_1     1.311101e+15  101.533810  0.993156  1.040905\n",
       "potenciaGeradaTG2_1     2.049823e+15  105.426361  0.985323  1.224871\n",
       "consumoEspecificoTG1_1  8.267670e+14  103.671293  0.968849  2.008029\n",
       "consumoEspecificoTG2_1  3.720910e+15  112.501693  0.924523  4.290878\n",
       "vazaoVaporEscape        4.832264e-03    0.483144  0.999057  4.480604"
      ]
     },
     "execution_count": 31,
     "metadata": {},
     "output_type": "execute_result"
    }
   ],
   "source": [
    "y_pred = model.predict(X_test)\n",
    "\n",
    "smape = np.array([symetric_mape(y_test[target], y_pred[:, i]) for i, target in enumerate(targets)])\n",
    "mape = np.array([mean_absolute_percentage_error(y_test[target], y_pred[:, i]) for i, target in enumerate(targets)])\n",
    "r_2 = np.array([r2_score(y_test[target], y_pred[:, i]) for i, target in enumerate(targets)])\n",
    "mse = np.array([np.mean((y_test[target] - y_pred[:, i])**2) for i, target in enumerate(targets)])\n",
    "\n",
    "# Create a DataFrame with the MAPE for each target\n",
    "mape_df = pd.DataFrame({'mape': mape, 'smape': smape, 'r2': r_2, 'mse': mse}, index=targets).sort_values('mse')\n",
    "mape_df"
   ]
  },
  {
   "cell_type": "code",
   "execution_count": 75,
   "metadata": {},
   "outputs": [
    {
     "data": {
      "text/plain": [
       "(0.0, 10000.0)"
      ]
     },
     "execution_count": 75,
     "metadata": {},
     "output_type": "execute_result"
    },
    {
     "data": {
      "image/png": "[encoded data removed]",
      "text/plain": [
       "<Figure size 1200x600 with 1 Axes>"
      ]
     },
     "metadata": {},
     "output_type": "display_data"
    }
   ],
   "source": [
    "# Plot consumoEspecificoTG1_1 in y axis and step in x\n",
    "plt.figure(figsize=(12, 6))\n",
    "plt.plot(df['consumoEspecificoTG1_1'])\n",
    "plt.xlabel('Step')\n",
    "plt.ylabel('consumoEspecificoTG1_1')\n",
    "plt.title('consumoEspecificoTG1_1 x Step')\n",
    "plt.xlim(0, 10000)"
   ]
  },
  {
   "cell_type": "code",
   "execution_count": 28,
   "metadata": {},
   "outputs": [
    {
     "name": "stdout",
     "output_type": "stream",
     "text": [
      "\u001b[1m456/456\u001b[0m \u001b[32m━━━━━━━━━━━━━━━━━━━━\u001b[0m\u001b[37m\u001b[0m \u001b[1m0s\u001b[0m 514us/step\n"
     ]
    },
    {
     "data": {
      "image/png": "[encoded data removed]",
      "text/plain": [
       "<Figure size 1200x600 with 1 Axes>"
      ]
     },
     "metadata": {},
     "output_type": "display_data"
    }
   ],
   "source": [
    "# Predicting the test set\n",
    "y_pred = model.predict(X_test)\n",
    "\n",
    "# Calculating the mean squared error for each target\n",
    "mse = np.mean((y_test - y_pred) ** 2, axis=0)\n",
    "\n",
    "# Plotting the mean squared error for each target\n",
    "plt.figure(figsize=(12, 6))\n",
    "sns.barplot(x=targets, y=mse)\n",
    "plt.xticks(rotation=90)\n",
    "plt.title('Mean Squared Error for each target')\n",
    "plt.show()\n"
   ]
  },
  {
   "cell_type": "code",
   "execution_count": 92,
   "metadata": {},
   "outputs": [
    {
     "name": "stdout",
     "output_type": "stream",
     "text": [
      "\u001b[1m  1/456\u001b[0m \u001b[37m━━━━━━━━━━━━━━━━━━━━\u001b[0m \u001b[1m11s\u001b[0m 25ms/step"
     ]
    },
    {
     "name": "stdout",
     "output_type": "stream",
     "text": [
      "\u001b[1m456/456\u001b[0m \u001b[32m━━━━━━━━━━━━━━━━━━━━\u001b[0m\u001b[37m\u001b[0m \u001b[1m0s\u001b[0m 491us/step\n"
     ]
    },
    {
     "data": {
      "image/png": "[encoded data removed]",
      "text/plain": [
       "<Figure size 1200x600 with 1 Axes>"
      ]
     },
     "metadata": {},
     "output_type": "display_data"
    }
   ],
   "source": [
    "# Predicting the test set\n",
    "y_pred = model.predict(X_test)\n",
    "\n",
    "# Calculating the mean squared error for each target\n",
    "mse = np.mean((y_test - y_pred) ** 2, axis=0)\n",
    "\n",
    "# Plotting the mean squared error for each target\n",
    "plt.figure(figsize=(12, 6))\n",
    "sns.barplot(x=targets, y=mse)\n",
    "plt.xticks(rotation=90)\n",
    "plt.title('Mean Squared Error for each target')\n",
    "plt.show()\n"
   ]
  }
 ],
 "metadata": {
  "kernelspec": {
   "display_name": "Python 3",
   "language": "python",
   "name": "python3"
  },
  "language_info": {
   "codemirror_mode": {
    "name": "ipython",
    "version": 3
   },
   "file_extension": ".py",
   "mimetype": "text/x-python",
   "name": "python",
   "nbconvert_exporter": "python",
   "pygments_lexer": "ipython3",
   "version": "3.9.13"
  }
 },
 "nbformat": 4,
 "nbformat_minor": 2
}
